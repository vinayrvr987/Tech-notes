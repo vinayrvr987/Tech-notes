{
 "cells": [
  {
   "cell_type": "code",
   "execution_count": 3,
   "id": "2d291a14",
   "metadata": {},
   "outputs": [],
   "source": [
    "#@title Code - Load dependencies\n",
    "\n",
    "#general\n",
    "import io\n",
    "\n",
    "# data\n",
    "import numpy as np\n",
    "import pandas as pd\n",
    "\n",
    "# machine learning\n",
    "import keras\n",
    "\n",
    "# data visualization\n",
    "import plotly.express as px\n",
    "from plotly.subplots import make_subplots\n",
    "import plotly.graph_objects as go\n",
    "import seaborn as sns"
   ]
  },
  {
   "cell_type": "code",
   "execution_count": 4,
   "id": "630d5d44",
   "metadata": {},
   "outputs": [],
   "source": [
    "chicago_taxi_dataset = pd.read_csv(\"https://download.mlcc.google.com/mledu-datasets/chicago_taxi_train.csv\")"
   ]
  },
  {
   "cell_type": "code",
   "execution_count": 5,
   "id": "43f69bf6",
   "metadata": {},
   "outputs": [
    {
     "name": "stdout",
     "output_type": "stream",
     "text": [
      "Read dataset completed successfully.\n",
      "Total number of rows: 31694\n",
      "\n",
      "\n"
     ]
    },
    {
     "data": {
      "text/html": [
       "<div>\n",
       "<style scoped>\n",
       "    .dataframe tbody tr th:only-of-type {\n",
       "        vertical-align: middle;\n",
       "    }\n",
       "\n",
       "    .dataframe tbody tr th {\n",
       "        vertical-align: top;\n",
       "    }\n",
       "\n",
       "    .dataframe thead th {\n",
       "        text-align: right;\n",
       "    }\n",
       "</style>\n",
       "<table border=\"1\" class=\"dataframe\">\n",
       "  <thead>\n",
       "    <tr style=\"text-align: right;\">\n",
       "      <th></th>\n",
       "      <th>TRIP_MILES</th>\n",
       "      <th>TRIP_SECONDS</th>\n",
       "      <th>FARE</th>\n",
       "      <th>COMPANY</th>\n",
       "      <th>PAYMENT_TYPE</th>\n",
       "      <th>TIP_RATE</th>\n",
       "    </tr>\n",
       "  </thead>\n",
       "  <tbody>\n",
       "    <tr>\n",
       "      <th>0</th>\n",
       "      <td>2.57</td>\n",
       "      <td>2341</td>\n",
       "      <td>31.99</td>\n",
       "      <td>Flash Cab</td>\n",
       "      <td>Mobile</td>\n",
       "      <td>6.3</td>\n",
       "    </tr>\n",
       "    <tr>\n",
       "      <th>1</th>\n",
       "      <td>1.18</td>\n",
       "      <td>1074</td>\n",
       "      <td>9.75</td>\n",
       "      <td>Flash Cab</td>\n",
       "      <td>Credit Card</td>\n",
       "      <td>27.9</td>\n",
       "    </tr>\n",
       "    <tr>\n",
       "      <th>2</th>\n",
       "      <td>1.29</td>\n",
       "      <td>1173</td>\n",
       "      <td>10.25</td>\n",
       "      <td>Sun Taxi</td>\n",
       "      <td>Cash</td>\n",
       "      <td>0.0</td>\n",
       "    </tr>\n",
       "    <tr>\n",
       "      <th>3</th>\n",
       "      <td>3.70</td>\n",
       "      <td>3360</td>\n",
       "      <td>23.75</td>\n",
       "      <td>Choice Taxi Association</td>\n",
       "      <td>Cash</td>\n",
       "      <td>0.0</td>\n",
       "    </tr>\n",
       "    <tr>\n",
       "      <th>4</th>\n",
       "      <td>1.15</td>\n",
       "      <td>1044</td>\n",
       "      <td>10.00</td>\n",
       "      <td>Flash Cab</td>\n",
       "      <td>Cash</td>\n",
       "      <td>0.0</td>\n",
       "    </tr>\n",
       "    <tr>\n",
       "      <th>...</th>\n",
       "      <td>...</td>\n",
       "      <td>...</td>\n",
       "      <td>...</td>\n",
       "      <td>...</td>\n",
       "      <td>...</td>\n",
       "      <td>...</td>\n",
       "    </tr>\n",
       "    <tr>\n",
       "      <th>195</th>\n",
       "      <td>1.13</td>\n",
       "      <td>821</td>\n",
       "      <td>9.00</td>\n",
       "      <td>Blue Ribbon Taxi Association</td>\n",
       "      <td>Mobile</td>\n",
       "      <td>22.9</td>\n",
       "    </tr>\n",
       "    <tr>\n",
       "      <th>196</th>\n",
       "      <td>0.57</td>\n",
       "      <td>414</td>\n",
       "      <td>6.00</td>\n",
       "      <td>Flash Cab</td>\n",
       "      <td>Cash</td>\n",
       "      <td>0.0</td>\n",
       "    </tr>\n",
       "    <tr>\n",
       "      <th>197</th>\n",
       "      <td>1.22</td>\n",
       "      <td>886</td>\n",
       "      <td>9.00</td>\n",
       "      <td>City Service</td>\n",
       "      <td>Cash</td>\n",
       "      <td>0.0</td>\n",
       "    </tr>\n",
       "    <tr>\n",
       "      <th>198</th>\n",
       "      <td>1.68</td>\n",
       "      <td>1219</td>\n",
       "      <td>9.00</td>\n",
       "      <td>Sun Taxi</td>\n",
       "      <td>Mobile</td>\n",
       "      <td>23.0</td>\n",
       "    </tr>\n",
       "    <tr>\n",
       "      <th>199</th>\n",
       "      <td>0.71</td>\n",
       "      <td>515</td>\n",
       "      <td>6.50</td>\n",
       "      <td>Sun Taxi</td>\n",
       "      <td>Credit Card</td>\n",
       "      <td>18.2</td>\n",
       "    </tr>\n",
       "  </tbody>\n",
       "</table>\n",
       "<p>200 rows × 6 columns</p>\n",
       "</div>"
      ],
      "text/plain": [
       "     TRIP_MILES  TRIP_SECONDS   FARE                       COMPANY  \\\n",
       "0          2.57          2341  31.99                     Flash Cab   \n",
       "1          1.18          1074   9.75                     Flash Cab   \n",
       "2          1.29          1173  10.25                      Sun Taxi   \n",
       "3          3.70          3360  23.75       Choice Taxi Association   \n",
       "4          1.15          1044  10.00                     Flash Cab   \n",
       "..          ...           ...    ...                           ...   \n",
       "195        1.13           821   9.00  Blue Ribbon Taxi Association   \n",
       "196        0.57           414   6.00                     Flash Cab   \n",
       "197        1.22           886   9.00                  City Service   \n",
       "198        1.68          1219   9.00                      Sun Taxi   \n",
       "199        0.71           515   6.50                      Sun Taxi   \n",
       "\n",
       "    PAYMENT_TYPE  TIP_RATE  \n",
       "0         Mobile       6.3  \n",
       "1    Credit Card      27.9  \n",
       "2           Cash       0.0  \n",
       "3           Cash       0.0  \n",
       "4           Cash       0.0  \n",
       "..           ...       ...  \n",
       "195       Mobile      22.9  \n",
       "196         Cash       0.0  \n",
       "197         Cash       0.0  \n",
       "198       Mobile      23.0  \n",
       "199  Credit Card      18.2  \n",
       "\n",
       "[200 rows x 6 columns]"
      ]
     },
     "execution_count": 5,
     "metadata": {},
     "output_type": "execute_result"
    }
   ],
   "source": [
    "# Updates dataframe to use specific columns.\n",
    "training_df = chicago_taxi_dataset[['TRIP_MILES', 'TRIP_SECONDS', 'FARE', 'COMPANY', 'PAYMENT_TYPE', 'TIP_RATE']]\n",
    "\n",
    "print('Read dataset completed successfully.')\n",
    "print('Total number of rows: {0}\\n\\n'.format(len(training_df.index)))\n",
    "training_df.head(200)"
   ]
  },
  {
   "cell_type": "code",
   "execution_count": 6,
   "id": "65d86a6f",
   "metadata": {},
   "outputs": [
    {
     "name": "stdout",
     "output_type": "stream",
     "text": [
      "Total number of rows: 31694\n",
      "\n",
      "\n"
     ]
    },
    {
     "data": {
      "text/html": [
       "<div>\n",
       "<style scoped>\n",
       "    .dataframe tbody tr th:only-of-type {\n",
       "        vertical-align: middle;\n",
       "    }\n",
       "\n",
       "    .dataframe tbody tr th {\n",
       "        vertical-align: top;\n",
       "    }\n",
       "\n",
       "    .dataframe thead th {\n",
       "        text-align: right;\n",
       "    }\n",
       "</style>\n",
       "<table border=\"1\" class=\"dataframe\">\n",
       "  <thead>\n",
       "    <tr style=\"text-align: right;\">\n",
       "      <th></th>\n",
       "      <th>TRIP_MILES</th>\n",
       "      <th>TRIP_SECONDS</th>\n",
       "      <th>FARE</th>\n",
       "      <th>COMPANY</th>\n",
       "      <th>PAYMENT_TYPE</th>\n",
       "      <th>TIP_RATE</th>\n",
       "    </tr>\n",
       "  </thead>\n",
       "  <tbody>\n",
       "    <tr>\n",
       "      <th>count</th>\n",
       "      <td>31694.000000</td>\n",
       "      <td>31694.000000</td>\n",
       "      <td>31694.000000</td>\n",
       "      <td>31694</td>\n",
       "      <td>31694</td>\n",
       "      <td>31694.000000</td>\n",
       "    </tr>\n",
       "    <tr>\n",
       "      <th>unique</th>\n",
       "      <td>NaN</td>\n",
       "      <td>NaN</td>\n",
       "      <td>NaN</td>\n",
       "      <td>31</td>\n",
       "      <td>7</td>\n",
       "      <td>NaN</td>\n",
       "    </tr>\n",
       "    <tr>\n",
       "      <th>top</th>\n",
       "      <td>NaN</td>\n",
       "      <td>NaN</td>\n",
       "      <td>NaN</td>\n",
       "      <td>Flash Cab</td>\n",
       "      <td>Credit Card</td>\n",
       "      <td>NaN</td>\n",
       "    </tr>\n",
       "    <tr>\n",
       "      <th>freq</th>\n",
       "      <td>NaN</td>\n",
       "      <td>NaN</td>\n",
       "      <td>NaN</td>\n",
       "      <td>7887</td>\n",
       "      <td>14142</td>\n",
       "      <td>NaN</td>\n",
       "    </tr>\n",
       "    <tr>\n",
       "      <th>mean</th>\n",
       "      <td>8.289463</td>\n",
       "      <td>1319.796397</td>\n",
       "      <td>23.905210</td>\n",
       "      <td>NaN</td>\n",
       "      <td>NaN</td>\n",
       "      <td>12.965785</td>\n",
       "    </tr>\n",
       "    <tr>\n",
       "      <th>std</th>\n",
       "      <td>7.265672</td>\n",
       "      <td>928.932873</td>\n",
       "      <td>16.970022</td>\n",
       "      <td>NaN</td>\n",
       "      <td>NaN</td>\n",
       "      <td>15.517765</td>\n",
       "    </tr>\n",
       "    <tr>\n",
       "      <th>min</th>\n",
       "      <td>0.500000</td>\n",
       "      <td>60.000000</td>\n",
       "      <td>3.250000</td>\n",
       "      <td>NaN</td>\n",
       "      <td>NaN</td>\n",
       "      <td>0.000000</td>\n",
       "    </tr>\n",
       "    <tr>\n",
       "      <th>25%</th>\n",
       "      <td>1.720000</td>\n",
       "      <td>548.000000</td>\n",
       "      <td>9.000000</td>\n",
       "      <td>NaN</td>\n",
       "      <td>NaN</td>\n",
       "      <td>0.000000</td>\n",
       "    </tr>\n",
       "    <tr>\n",
       "      <th>50%</th>\n",
       "      <td>5.920000</td>\n",
       "      <td>1081.000000</td>\n",
       "      <td>18.750000</td>\n",
       "      <td>NaN</td>\n",
       "      <td>NaN</td>\n",
       "      <td>12.200000</td>\n",
       "    </tr>\n",
       "    <tr>\n",
       "      <th>75%</th>\n",
       "      <td>14.500000</td>\n",
       "      <td>1888.000000</td>\n",
       "      <td>38.750000</td>\n",
       "      <td>NaN</td>\n",
       "      <td>NaN</td>\n",
       "      <td>20.800000</td>\n",
       "    </tr>\n",
       "    <tr>\n",
       "      <th>max</th>\n",
       "      <td>68.120000</td>\n",
       "      <td>7140.000000</td>\n",
       "      <td>159.250000</td>\n",
       "      <td>NaN</td>\n",
       "      <td>NaN</td>\n",
       "      <td>648.600000</td>\n",
       "    </tr>\n",
       "  </tbody>\n",
       "</table>\n",
       "</div>"
      ],
      "text/plain": [
       "          TRIP_MILES  TRIP_SECONDS          FARE    COMPANY PAYMENT_TYPE  \\\n",
       "count   31694.000000  31694.000000  31694.000000      31694        31694   \n",
       "unique           NaN           NaN           NaN         31            7   \n",
       "top              NaN           NaN           NaN  Flash Cab  Credit Card   \n",
       "freq             NaN           NaN           NaN       7887        14142   \n",
       "mean        8.289463   1319.796397     23.905210        NaN          NaN   \n",
       "std         7.265672    928.932873     16.970022        NaN          NaN   \n",
       "min         0.500000     60.000000      3.250000        NaN          NaN   \n",
       "25%         1.720000    548.000000      9.000000        NaN          NaN   \n",
       "50%         5.920000   1081.000000     18.750000        NaN          NaN   \n",
       "75%        14.500000   1888.000000     38.750000        NaN          NaN   \n",
       "max        68.120000   7140.000000    159.250000        NaN          NaN   \n",
       "\n",
       "            TIP_RATE  \n",
       "count   31694.000000  \n",
       "unique           NaN  \n",
       "top              NaN  \n",
       "freq             NaN  \n",
       "mean       12.965785  \n",
       "std        15.517765  \n",
       "min         0.000000  \n",
       "25%         0.000000  \n",
       "50%        12.200000  \n",
       "75%        20.800000  \n",
       "max       648.600000  "
      ]
     },
     "execution_count": 6,
     "metadata": {},
     "output_type": "execute_result"
    }
   ],
   "source": [
    "print('Total number of rows: {0}\\n\\n'.format(len(training_df.index)))\n",
    "training_df.describe(include='all')"
   ]
  },
  {
   "cell_type": "code",
   "execution_count": 7,
   "id": "fd97b8c8",
   "metadata": {},
   "outputs": [
    {
     "name": "stdout",
     "output_type": "stream",
     "text": [
      "              TRIP_MILES  TRIP_SECONDS      FARE  TIP_RATE\n",
      "TRIP_MILES      1.000000      0.800855  0.975344 -0.049594\n",
      "TRIP_SECONDS    0.800855      1.000000  0.830292 -0.084294\n",
      "FARE            0.975344      0.830292  1.000000 -0.070979\n",
      "TIP_RATE       -0.049594     -0.084294 -0.070979  1.000000\n"
     ]
    }
   ],
   "source": [
    "corr_matrix = training_df.corr(numeric_only=True)\n",
    "print(corr_matrix)"
   ]
  },
  {
   "cell_type": "code",
   "execution_count": 9,
   "id": "cec2a218",
   "metadata": {},
   "outputs": [
    {
     "data": {
      "text/plain": [
       "<seaborn.axisgrid.PairGrid at 0x1990ec53610>"
      ]
     },
     "execution_count": 9,
     "metadata": {},
     "output_type": "execute_result"
    },
    {
     "data": {
      "image/png": "[encoded data removed]",
      "text/plain": [
       "<Figure size 750x750 with 12 Axes>"
      ]
     },
     "metadata": {},
     "output_type": "display_data"
    }
   ],
   "source": [
    "sns.pairplot(training_df, x_vars=[\"FARE\", \"TRIP_MILES\", \"TRIP_SECONDS\"], y_vars=[\"FARE\", \"TRIP_MILES\", \"TRIP_SECONDS\"])"
   ]
  },
  {
   "cell_type": "code",
   "execution_count": 13,
   "id": "283ae29f",
   "metadata": {},
   "outputs": [
    {
     "name": "stdout",
     "output_type": "stream",
     "text": [
      "SUCCESS: defining plotting functions complete.\n"
     ]
    }
   ],
   "source": [
    "#@title Define plotting functions\n",
    "\n",
    "def make_plots(df, feature_names, label_name, model_output, sample_size=200):\n",
    "\n",
    "  random_sample = df.sample(n=sample_size).copy()\n",
    "  random_sample.reset_index()\n",
    "  weights, bias, epochs, rmse = model_output\n",
    "\n",
    "  is_2d_plot = len(feature_names) == 1\n",
    "  model_plot_type = \"scatter\" if is_2d_plot else \"surface\"\n",
    "  fig = make_subplots(rows=1, cols=2,\n",
    "                      subplot_titles=(\"Loss Curve\", \"Model Plot\"),\n",
    "                      specs=[[{\"type\": \"scatter\"}, {\"type\": model_plot_type}]])\n",
    "\n",
    "  plot_data(random_sample, feature_names, label_name, fig)\n",
    "  plot_model(random_sample, feature_names, weights, bias, fig)\n",
    "  plot_loss_curve(epochs, rmse, fig)\n",
    "\n",
    "  fig.show()\n",
    "  return\n",
    "\n",
    "def plot_loss_curve(epochs, rmse, fig):\n",
    "  curve = px.line(x=epochs, y=rmse)\n",
    "  curve.update_traces(line_color='#ff0000', line_width=3)\n",
    "\n",
    "  fig.append_trace(curve.data[0], row=1, col=1)\n",
    "  fig.update_xaxes(title_text=\"Epoch\", row=1, col=1)\n",
    "  fig.update_yaxes(title_text=\"Root Mean Squared Error\", row=1, col=1, range=[rmse.min()*0.8, rmse.max()])\n",
    "\n",
    "  return\n",
    "\n",
    "def plot_data(df, features, label, fig):\n",
    "  if len(features) == 1:\n",
    "    scatter = px.scatter(df, x=features[0], y=label)\n",
    "  else:\n",
    "    scatter = px.scatter_3d(df, x=features[0], y=features[1], z=label)\n",
    "\n",
    "  fig.append_trace(scatter.data[0], row=1, col=2)\n",
    "  if len(features) == 1:\n",
    "    fig.update_xaxes(title_text=features[0], row=1, col=2)\n",
    "    fig.update_yaxes(title_text=label, row=1, col=2)\n",
    "  else:\n",
    "    fig.update_layout(scene1=dict(xaxis_title=features[0], yaxis_title=features[1], zaxis_title=label))\n",
    "\n",
    "  return\n",
    "\n",
    "def plot_model(df, features, weights, bias, fig):\n",
    "  df['FARE_PREDICTED'] = bias[0]\n",
    "\n",
    "  for index, feature in enumerate(features):\n",
    "    df['FARE_PREDICTED'] = df['FARE_PREDICTED'] + weights[index][0] * df[feature]\n",
    "\n",
    "  if len(features) == 1:\n",
    "    model = px.line(df, x=features[0], y='FARE_PREDICTED')\n",
    "    model.update_traces(line_color='#ff0000', line_width=3)\n",
    "  else:\n",
    "    z_name, y_name = \"FARE_PREDICTED\", features[1]\n",
    "    z = [df[z_name].min(), (df[z_name].max() - df[z_name].min()) / 2, df[z_name].max()]\n",
    "    y = [df[y_name].min(), (df[y_name].max() - df[y_name].min()) / 2, df[y_name].max()]\n",
    "    x = []\n",
    "    for i in range(len(y)):\n",
    "      x.append((z[i] - weights[1][0] * y[i] - bias[0]) / weights[0][0])\n",
    "\n",
    "    plane=pd.DataFrame({'x':x, 'y':y, 'z':[z] * 3})\n",
    "\n",
    "    light_yellow = [[0, '#89CFF0'], [1, '#FFDB58']]\n",
    "    model = go.Figure(data=go.Surface(x=plane['x'], y=plane['y'], z=plane['z'],\n",
    "                                      colorscale=light_yellow))\n",
    "\n",
    "  fig.add_trace(model.data[0], row=1, col=2)\n",
    "\n",
    "  return\n",
    "\n",
    "def model_info(feature_names, label_name, model_output):\n",
    "  weights = model_output[0]\n",
    "  bias = model_output[1]\n",
    "\n",
    "  nl = \"\\n\"\n",
    "  header = \"-\" * 80\n",
    "  banner = header + nl + \"|\" + \"MODEL INFO\".center(78) + \"|\" + nl + header\n",
    "\n",
    "  info = \"\"\n",
    "  equation = label_name + \" = \"\n",
    "\n",
    "  for index, feature in enumerate(feature_names):\n",
    "    info = info + \"Weight for feature[{}]: {:.3f}\\n\".format(feature, weights[index][0])\n",
    "    equation = equation + \"{:.3f} * {} + \".format(weights[index][0], feature)\n",
    "\n",
    "  info = info + \"Bias: {:.3f}\\n\".format(bias[0])\n",
    "  equation = equation + \"{:.3f}\\n\".format(bias[0])\n",
    "\n",
    "  return banner + nl + info + nl + equation\n",
    "\n",
    "print(\"SUCCESS: defining plotting functions complete.\")"
   ]
  },
  {
   "cell_type": "code",
   "execution_count": 14,
   "id": "e82e051e",
   "metadata": {},
   "outputs": [
    {
     "name": "stdout",
     "output_type": "stream",
     "text": [
      "SUCCESS: defining linear regression functions complete.\n"
     ]
    }
   ],
   "source": [
    "#@title Code - Define ML functions\n",
    "\n",
    "def build_model(my_learning_rate, num_features):\n",
    "  \"\"\"Create and compile a simple linear regression model.\"\"\"\n",
    "  # Describe the topography of the model.\n",
    "  # The topography of a simple linear regression model\n",
    "  # is a single node in a single layer.\n",
    "  inputs = keras.Input(shape=(num_features,))\n",
    "  outputs = keras.layers.Dense(units=1)(inputs)\n",
    "  model = keras.Model(inputs=inputs, outputs=outputs)\n",
    "\n",
    "  # Compile the model topography into code that Keras can efficiently\n",
    "  # execute. Configure training to minimize the model's mean squared error.\n",
    "  model.compile(optimizer=keras.optimizers.RMSprop(learning_rate=my_learning_rate),\n",
    "                loss=\"mean_squared_error\",\n",
    "                metrics=[keras.metrics.RootMeanSquaredError()])\n",
    "\n",
    "  return model\n",
    "\n",
    "\n",
    "def train_model(model, features, label, epochs, batch_size):\n",
    "  \"\"\"Train the model by feeding it data.\"\"\"\n",
    "\n",
    "  # Feed the model the feature and the label.\n",
    "  # The model will train for the specified number of epochs.\n",
    "  history = model.fit(x=features,\n",
    "                      y=label,\n",
    "                      batch_size=batch_size,\n",
    "                      epochs=epochs)\n",
    "\n",
    "  # Gather the trained model's weight and bias.\n",
    "  trained_weight = model.get_weights()[0]\n",
    "  trained_bias = model.get_weights()[1]\n",
    "\n",
    "  # The list of epochs is stored separately from the rest of history.\n",
    "  epochs = history.epoch\n",
    "\n",
    "  # Isolate the error for each epoch.\n",
    "  hist = pd.DataFrame(history.history)\n",
    "\n",
    "  # To track the progression of training, we're going to take a snapshot\n",
    "  # of the model's root mean squared error at each epoch.\n",
    "  rmse = hist[\"root_mean_squared_error\"]\n",
    "\n",
    "  return trained_weight, trained_bias, epochs, rmse\n",
    "\n",
    "\n",
    "def run_experiment(df, feature_names, label_name, learning_rate, epochs, batch_size):\n",
    "\n",
    "  print('INFO: starting training experiment with features={} and label={}\\n'.format(feature_names, label_name))\n",
    "\n",
    "  num_features = len(feature_names)\n",
    "\n",
    "  features = df.loc[:, feature_names].values\n",
    "  label = df[label_name].values\n",
    "\n",
    "  model = build_model(learning_rate, num_features)\n",
    "  model_output = train_model(model, features, label, epochs, batch_size)\n",
    "\n",
    "  print('\\nSUCCESS: training experiment complete\\n')\n",
    "  print('{}'.format(model_info(feature_names, label_name, model_output)))\n",
    "  make_plots(df, feature_names, label_name, model_output)\n",
    "\n",
    "  return model\n",
    "\n",
    "print(\"SUCCESS: defining linear regression functions complete.\")"
   ]
  },
  {
   "cell_type": "code",
   "execution_count": 15,
   "id": "d94146d9",
   "metadata": {},
   "outputs": [
    {
     "name": "stdout",
     "output_type": "stream",
     "text": [
      "INFO: starting training experiment with features=['TRIP_MILES'] and label=FARE\n",
      "\n",
      "Epoch 1/20\n",
      "\u001b[1m634/634\u001b[0m \u001b[32m━━━━━━━━━━━━━━━━━━━━\u001b[0m\u001b[37m\u001b[0m \u001b[1m1s\u001b[0m 1ms/step - loss: 384.9194 - root_mean_squared_error: 19.5936\n",
      "Epoch 2/20\n",
      "\u001b[1m634/634\u001b[0m \u001b[32m━━━━━━━━━━━━━━━━━━━━\u001b[0m\u001b[37m\u001b[0m \u001b[1m1s\u001b[0m 1ms/step - loss: 159.6887 - root_mean_squared_error: 12.6014\n",
      "Epoch 3/20\n",
      "\u001b[1m634/634\u001b[0m \u001b[32m━━━━━━━━━━━━━━━━━━━━\u001b[0m\u001b[37m\u001b[0m \u001b[1m1s\u001b[0m 1ms/step - loss: 40.6116 - root_mean_squared_error: 6.3449\n",
      "Epoch 4/20\n",
      "\u001b[1m634/634\u001b[0m \u001b[32m━━━━━━━━━━━━━━━━━━━━\u001b[0m\u001b[37m\u001b[0m \u001b[1m1s\u001b[0m 1ms/step - loss: 17.4104 - root_mean_squared_error: 4.1668\n",
      "Epoch 5/20\n",
      "\u001b[1m634/634\u001b[0m \u001b[32m━━━━━━━━━━━━━━━━━━━━\u001b[0m\u001b[37m\u001b[0m \u001b[1m1s\u001b[0m 1ms/step - loss: 16.8651 - root_mean_squared_error: 4.1037  \n",
      "Epoch 6/20\n",
      "\u001b[1m634/634\u001b[0m \u001b[32m━━━━━━━━━━━━━━━━━━━━\u001b[0m\u001b[37m\u001b[0m \u001b[1m1s\u001b[0m 938us/step - loss: 15.9209 - root_mean_squared_error: 3.9855\n",
      "Epoch 7/20\n",
      "\u001b[1m634/634\u001b[0m \u001b[32m━━━━━━━━━━━━━━━━━━━━\u001b[0m\u001b[37m\u001b[0m \u001b[1m1s\u001b[0m 995us/step - loss: 14.2035 - root_mean_squared_error: 3.7601\n",
      "Epoch 8/20\n",
      "\u001b[1m634/634\u001b[0m \u001b[32m━━━━━━━━━━━━━━━━━━━━\u001b[0m\u001b[37m\u001b[0m \u001b[1m1s\u001b[0m 941us/step - loss: 14.0855 - root_mean_squared_error: 3.7497\n",
      "Epoch 9/20\n",
      "\u001b[1m634/634\u001b[0m \u001b[32m━━━━━━━━━━━━━━━━━━━━\u001b[0m\u001b[37m\u001b[0m \u001b[1m1s\u001b[0m 1ms/step - loss: 13.4471 - root_mean_squared_error: 3.6617\n",
      "Epoch 10/20\n",
      "\u001b[1m634/634\u001b[0m \u001b[32m━━━━━━━━━━━━━━━━━━━━\u001b[0m\u001b[37m\u001b[0m \u001b[1m1s\u001b[0m 927us/step - loss: 13.4633 - root_mean_squared_error: 3.6570\n",
      "Epoch 11/20\n",
      "\u001b[1m634/634\u001b[0m \u001b[32m━━━━━━━━━━━━━━━━━━━━\u001b[0m\u001b[37m\u001b[0m \u001b[1m1s\u001b[0m 921us/step - loss: 14.5179 - root_mean_squared_error: 3.7997\n",
      "Epoch 12/20\n",
      "\u001b[1m634/634\u001b[0m \u001b[32m━━━━━━━━━━━━━━━━━━━━\u001b[0m\u001b[37m\u001b[0m \u001b[1m1s\u001b[0m 1ms/step - loss: 13.8507 - root_mean_squared_error: 3.7157\n",
      "Epoch 13/20\n",
      "\u001b[1m634/634\u001b[0m \u001b[32m━━━━━━━━━━━━━━━━━━━━\u001b[0m\u001b[37m\u001b[0m \u001b[1m1s\u001b[0m 1ms/step - loss: 13.9304 - root_mean_squared_error: 3.7259\n",
      "Epoch 14/20\n",
      "\u001b[1m634/634\u001b[0m \u001b[32m━━━━━━━━━━━━━━━━━━━━\u001b[0m\u001b[37m\u001b[0m \u001b[1m1s\u001b[0m 1ms/step - loss: 15.1213 - root_mean_squared_error: 3.8845\n",
      "Epoch 15/20\n",
      "\u001b[1m634/634\u001b[0m \u001b[32m━━━━━━━━━━━━━━━━━━━━\u001b[0m\u001b[37m\u001b[0m \u001b[1m1s\u001b[0m 1ms/step - loss: 14.1959 - root_mean_squared_error: 3.7614\n",
      "Epoch 16/20\n",
      "\u001b[1m634/634\u001b[0m \u001b[32m━━━━━━━━━━━━━━━━━━━━\u001b[0m\u001b[37m\u001b[0m \u001b[1m1s\u001b[0m 1ms/step - loss: 13.3011 - root_mean_squared_error: 3.6394\n",
      "Epoch 17/20\n",
      "\u001b[1m634/634\u001b[0m \u001b[32m━━━━━━━━━━━━━━━━━━━━\u001b[0m\u001b[37m\u001b[0m \u001b[1m1s\u001b[0m 2ms/step - loss: 13.0828 - root_mean_squared_error: 3.6108\n",
      "Epoch 18/20\n",
      "\u001b[1m634/634\u001b[0m \u001b[32m━━━━━━━━━━━━━━━━━━━━\u001b[0m\u001b[37m\u001b[0m \u001b[1m1s\u001b[0m 1ms/step - loss: 14.1936 - root_mean_squared_error: 3.7607\n",
      "Epoch 19/20\n",
      "\u001b[1m634/634\u001b[0m \u001b[32m━━━━━━━━━━━━━━━━━━━━\u001b[0m\u001b[37m\u001b[0m \u001b[1m1s\u001b[0m 1ms/step - loss: 14.2877 - root_mean_squared_error: 3.7766\n",
      "Epoch 20/20\n",
      "\u001b[1m634/634\u001b[0m \u001b[32m━━━━━━━━━━━━━━━━━━━━\u001b[0m\u001b[37m\u001b[0m \u001b[1m1s\u001b[0m 1ms/step - loss: 14.1218 - root_mean_squared_error: 3.7531\n",
      "\n",
      "SUCCESS: training experiment complete\n",
      "\n",
      "--------------------------------------------------------------------------------\n",
      "|                                  MODEL INFO                                  |\n",
      "--------------------------------------------------------------------------------\n",
      "Weight for feature[TRIP_MILES]: 2.272\n",
      "Bias: 4.966\n",
      "\n",
      "FARE = 2.272 * TRIP_MILES + 4.966\n",
      "\n"
     ]
    },
    {
     "data": {
      "application/vnd.plotly.v1+json": {
       "config": {
        "plotlyServerURL": "https://plot.ly"
       },
       "data": [
        {
         "hovertemplate": "TRIP_MILES=%{x}<br>FARE=%{y}<extra></extra>",
         "legendgroup": "",
         "marker": {
          "color": "#636efa",
          "symbol": "circle"
         },
         "mode": "markers",
         "name": "",
         "orientation": "v",
         "showlegend": false,
         "type": "scatter",
         "x": {
          "bdata": "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",
          "dtype": "f8"
         },
         "xaxis": "x2",
         "y": {
          "bdata": "XI/C9SgcPEAUrkfhepQpQAAAAAAAABhAAAAAAADgQUAAAAAAAIAxQAAAAAAAwEVAAAAAAAAAKkAAAAAAAEAwQOxRuB6F6yNAAAAAAABAO0AAAAAAAAAgQAAAAAAA4EFAAAAAAAAAIkAAAAAAAIAhQAAAAAAAgElAAAAAAAAAFUAAAAAAAAAaQAAAAAAAAB5AAAAAAACAJkAAAAAAAABDQAAAAAAAgEVAUrgehetRLEAAAAAAAIBAQAAAAAAAgDVAAAAAAACAK0AAAAAAAIAjQAAAAAAA4EtAAAAAAACgRkAAAAAAAEBFQAAAAAAAwEZAAAAAAAAAHEAAAAAAAKBGQI/C9ShcjyRAAAAAAABARUAAAAAAAIBFQAAAAAAAQEtAAAAAAAAAGEAAAAAAAEA0QAAAAAAAwD5AAAAAAABARkAAAAAAAOBGQAAAAAAAgDpAAAAAAACAO0AAAAAAAAA+QAAAAAAAIFpAw/UoXI8CRUAAAAAAAABGQAAAAAAAgD9AAAAAAAAAGkAAAAAAAABDQAAAAAAAQDtAAAAAAACAIUB7FK5H4VpNQAAAAAAAQDZAAAAAAAAAHkAAAAAAAAAXQAAAAAAAgCBAzczMzMzMIkAAAAAAAMA+QAAAAAAAwEZAAAAAAAAAKkAAAAAAAMA8QHsUrkfh+i5AAAAAAAAAQUAAAAAAAMA/QAAAAAAAgDFAAAAAAACgRkAAAAAAAIA5QAAAAAAA4ENAAAAAAAAAR0AAAAAAAAAdQAAAAAAAgCpAAAAAAACAI0AAAAAAAAAkQHE9Ctej8CxAAAAAAAAAI0AAAAAAAMBFQAAAAAAAgCBAAAAAAAAAIUAAAAAAAAAZQAAAAAAAQEZAAAAAAAAAJEAAAAAAAIAkQAAAAAAAQEZAAAAAAABAP0AfhetRuJ40QHE9CtejcCVAAAAAAAAARkAAAAAAAAAnQAAAAAAAAD1AAAAAAAAQUUAAAAAAAMBHQAAAAAAAQEJAAAAAAAAAIkAAAAAAAMA5QAAAAAAAgCRAAAAAAACARUAAAAAAAAAhQAAAAAAAQD5AAAAAAAAAF0AAAAAAAIAxQAAAAAAAADlAAAAAAACAIEAAAAAAAIBDQAAAAAAAACJAAAAAAABAPUAAAAAAAIA+QAAAAAAAwDJAAAAAAAAAGEAAAAAAAIBGQAAAAAAAACNAAAAAAACANUAAAAAAAAAhQM3MzMzMzDdAH4XrUbgeI0AAAAAAAAApQAAAAAAAgEBAAAAAAACAL0AAAAAAAAAiQAAAAAAAwDRAAAAAAAAAF0D2KFyPwpVIQAAAAAAAwEBAzczMzMzMI0AAAAAAAGBGQGZmZmZmhkVAAAAAAAAAFkAAAAAAAAAcQAAAAAAAABhAAAAAAAAAFkAAAAAAAAAfQAAAAAAAgDZAAAAAAAAAIUAAAAAAAGBHQAAAAAAAAB1AAAAAAABANkAAAAAAAAAVQAAAAAAAABNAAAAAAAAAF0AAAAAAAEBHQAAAAAAAoEVAAAAAAAAAGUAAAAAAAMA9QAAAAAAA4ERAAAAAAABAPEAAAAAAAAAUQAAAAAAAwDVAAAAAAACAQED2KFyPwjUyQAAAAAAAgCJAAAAAAAAAGkAAAAAAAIBAQAAAAAAAABlAAAAAAADgQEAAAAAAAAAeQAAAAAAAgDNAAAAAAAAAFUAAAAAAAAAWQAAAAAAA4EVAAAAAAADgSUAAAAAAAIA2QAAAAAAAAB5AAAAAAAAAP0AAAAAAAAAaQAAAAAAAYEVAAAAAAAAAFUAAAAAAAEAwQAAAAAAAIEZAAAAAAAAANkAAAAAAAIAkQAAAAAAAACJAAAAAAAAAF0AAAAAAAAAiQAAAAAAAADNAAAAAAADAO0B7FK5H4fowQAAAAAAAACdAAAAAAABARkDD9Shcj3JVQAAAAAAAwEZAAAAAAADAPkAAAAAAAAAiQAAAAAAAACJAAAAAAAAAHkAAAAAAAEA4QAAAAAAAIEJAAAAAAACAL0AAAAAAAIAxQAAAAAAAgCZAAAAAAADgRkAAAAAAAOBFQAAAAAAAABdAAAAAAAAAMEAAAAAAAAAiQAAAAAAA4EBAAAAAAAAAEkAAAAAAAAAdQAAAAAAAYEVAAAAAAAAAJ0CF61G4HoUoQA==",
          "dtype": "f8"
         },
         "yaxis": "y2"
        },
        {
         "hovertemplate": "TRIP_MILES=%{x}<br>FARE_PREDICTED=%{y}<extra></extra>",
         "legendgroup": "",
         "line": {
          "color": "#ff0000",
          "dash": "solid",
          "width": 3
         },
         "marker": {
          "symbol": "circle"
         },
         "mode": "lines",
         "name": "",
         "orientation": "v",
         "showlegend": false,
         "type": "scatter",
         "x": {
          "bdata": "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",
          "dtype": "f8"
         },
         "xaxis": "x2",
         "y": {
          "bdata": "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",
          "dtype": "f8"
         },
         "yaxis": "y2"
        },
        {
         "hovertemplate": "x=%{x}<br>y=%{y}<extra></extra>",
         "legendgroup": "",
         "line": {
          "color": "#ff0000",
          "dash": "solid",
          "width": 3
         },
         "marker": {
          "symbol": "circle"
         },
         "mode": "lines",
         "name": "",
         "orientation": "v",
         "showlegend": false,
         "type": "scatter",
         "x": {
          "bdata": "AAECAwQFBgcICQoLDA0ODxAREhM=",
          "dtype": "i1"
         },
         "xaxis": "x",
         "y": {
          "bdata": "AAAAADbgMUAAAACgAg0mQAAAAGCaCBZAAAAAgF/JEEAAAADAjS0QQAAAAABBbw9AAAAAwHLCDkAAAAAAxlkOQAAAAEAjIw5AAAAAgKAIDkAAAAAg2f4NQAAAAOBl+w1AAAAAgB35DUAAAACgEfgNQAAAACDa9g1AAAAAIKz3DUAAAABAPfcNQAAAAGB89w1AAAAAwIz3DUAAAAAAjfYNQA==",
          "dtype": "f8"
         },
         "yaxis": "y"
        }
       ],
       "layout": {
        "annotations": [
         {
          "font": {
           "size": 16
          },
          "showarrow": false,
          "text": "Loss Curve",
          "x": 0.225,
          "xanchor": "center",
          "xref": "paper",
          "y": 1,
          "yanchor": "bottom",
          "yref": "paper"
         },
         {
          "font": {
           "size": 16
          },
          "showarrow": false,
          "text": "Model Plot",
          "x": 0.775,
          "xanchor": "center",
          "xref": "paper",
          "y": 1,
          "yanchor": "bottom",
          "yref": "paper"
         }
        ],
        "template": {
         "data": {
          "bar": [
           {
            "error_x": {
             "color": "#2a3f5f"
            },
            "error_y": {
             "color": "#2a3f5f"
            },
            "marker": {
             "line": {
              "color": "#E5ECF6",
              "width": 0.5
             },
             "pattern": {
              "fillmode": "overlay",
              "size": 10,
              "solidity": 0.2
             }
            },
            "type": "bar"
           }
          ],
          "barpolar": [
           {
            "marker": {
             "line": {
              "color": "#E5ECF6",
              "width": 0.5
             },
             "pattern": {
              "fillmode": "overlay",
              "size": 10,
              "solidity": 0.2
             }
            },
            "type": "barpolar"
           }
          ],
          "carpet": [
           {
            "aaxis": {
             "endlinecolor": "#2a3f5f",
             "gridcolor": "white",
             "linecolor": "white",
             "minorgridcolor": "white",
             "startlinecolor": "#2a3f5f"
            },
            "baxis": {
             "endlinecolor": "#2a3f5f",
             "gridcolor": "white",
             "linecolor": "white",
             "minorgridcolor": "white",
             "startlinecolor": "#2a3f5f"
            },
            "type": "carpet"
           }
          ],
          "choropleth": [
           {
            "colorbar": {
             "outlinewidth": 0,
             "ticks": ""
            },
            "type": "choropleth"
           }
          ],
          "contour": [
           {
            "colorbar": {
             "outlinewidth": 0,
             "ticks": ""
            },
            "colorscale": [
             [
              0,
              "#0d0887"
             ],
             [
              0.1111111111111111,
              "#46039f"
             ],
             [
              0.2222222222222222,
              "#7201a8"
             ],
             [
              0.3333333333333333,
              "#9c179e"
             ],
             [
              0.4444444444444444,
              "#bd3786"
             ],
             [
              0.5555555555555556,
              "#d8576b"
             ],
             [
              0.6666666666666666,
              "#ed7953"
             ],
             [
              0.7777777777777778,
              "#fb9f3a"
             ],
             [
              0.8888888888888888,
              "#fdca26"
             ],
             [
              1,
              "#f0f921"
             ]
            ],
            "type": "contour"
           }
          ],
          "contourcarpet": [
           {
            "colorbar": {
             "outlinewidth": 0,
             "ticks": ""
            },
            "type": "contourcarpet"
           }
          ],
          "heatmap": [
           {
            "colorbar": {
             "outlinewidth": 0,
             "ticks": ""
            },
            "colorscale": [
             [
              0,
              "#0d0887"
             ],
             [
              0.1111111111111111,
              "#46039f"
             ],
             [
              0.2222222222222222,
              "#7201a8"
             ],
             [
              0.3333333333333333,
              "#9c179e"
             ],
             [
              0.4444444444444444,
              "#bd3786"
             ],
             [
              0.5555555555555556,
              "#d8576b"
             ],
             [
              0.6666666666666666,
              "#ed7953"
             ],
             [
              0.7777777777777778,
              "#fb9f3a"
             ],
             [
              0.8888888888888888,
              "#fdca26"
             ],
             [
              1,
              "#f0f921"
             ]
            ],
            "type": "heatmap"
           }
          ],
          "histogram": [
           {
            "marker": {
             "pattern": {
              "fillmode": "overlay",
              "size": 10,
              "solidity": 0.2
             }
            },
            "type": "histogram"
           }
          ],
          "histogram2d": [
           {
            "colorbar": {
             "outlinewidth": 0,
             "ticks": ""
            },
            "colorscale": [
             [
              0,
              "#0d0887"
             ],
             [
              0.1111111111111111,
              "#46039f"
             ],
             [
              0.2222222222222222,
              "#7201a8"
             ],
             [
              0.3333333333333333,
              "#9c179e"
             ],
             [
              0.4444444444444444,
              "#bd3786"
             ],
             [
              0.5555555555555556,
              "#d8576b"
             ],
             [
              0.6666666666666666,
              "#ed7953"
             ],
             [
              0.7777777777777778,
              "#fb9f3a"
             ],
             [
              0.8888888888888888,
              "#fdca26"
             ],
             [
              1,
              "#f0f921"
             ]
            ],
            "type": "histogram2d"
           }
          ],
          "histogram2dcontour": [
           {
            "colorbar": {
             "outlinewidth": 0,
             "ticks": ""
            },
            "colorscale": [
             [
              0,
              "#0d0887"
             ],
             [
              0.1111111111111111,
              "#46039f"
             ],
             [
              0.2222222222222222,
              "#7201a8"
             ],
             [
              0.3333333333333333,
              "#9c179e"
             ],
             [
              0.4444444444444444,
              "#bd3786"
             ],
             [
              0.5555555555555556,
              "#d8576b"
             ],
             [
              0.6666666666666666,
              "#ed7953"
             ],
             [
              0.7777777777777778,
              "#fb9f3a"
             ],
             [
              0.8888888888888888,
              "#fdca26"
             ],
             [
              1,
              "#f0f921"
             ]
            ],
            "type": "histogram2dcontour"
           }
          ],
          "mesh3d": [
           {
            "colorbar": {
             "outlinewidth": 0,
             "ticks": ""
            },
            "type": "mesh3d"
           }
          ],
          "parcoords": [
           {
            "line": {
             "colorbar": {
              "outlinewidth": 0,
              "ticks": ""
             }
            },
            "type": "parcoords"
           }
          ],
          "pie": [
           {
            "automargin": true,
            "type": "pie"
           }
          ],
          "scatter": [
           {
            "fillpattern": {
             "fillmode": "overlay",
             "size": 10,
             "solidity": 0.2
            },
            "type": "scatter"
           }
          ],
          "scatter3d": [
           {
            "line": {
             "colorbar": {
              "outlinewidth": 0,
              "ticks": ""
             }
            },
            "marker": {
             "colorbar": {
              "outlinewidth": 0,
              "ticks": ""
             }
            },
            "type": "scatter3d"
           }
          ],
          "scattercarpet": [
           {
            "marker": {
             "colorbar": {
              "outlinewidth": 0,
              "ticks": ""
             }
            },
            "type": "scattercarpet"
           }
          ],
          "scattergeo": [
           {
            "marker": {
             "colorbar": {
              "outlinewidth": 0,
              "ticks": ""
             }
            },
            "type": "scattergeo"
           }
          ],
          "scattergl": [
           {
            "marker": {
             "colorbar": {
              "outlinewidth": 0,
              "ticks": ""
             }
            },
            "type": "scattergl"
           }
          ],
          "scattermap": [
           {
            "marker": {
             "colorbar": {
              "outlinewidth": 0,
              "ticks": ""
             }
            },
            "type": "scattermap"
           }
          ],
          "scattermapbox": [
           {
            "marker": {
             "colorbar": {
              "outlinewidth": 0,
              "ticks": ""
             }
            },
            "type": "scattermapbox"
           }
          ],
          "scatterpolar": [
           {
            "marker": {
             "colorbar": {
              "outlinewidth": 0,
              "ticks": ""
             }
            },
            "type": "scatterpolar"
           }
          ],
          "scatterpolargl": [
           {
            "marker": {
             "colorbar": {
              "outlinewidth": 0,
              "ticks": ""
             }
            },
            "type": "scatterpolargl"
           }
          ],
          "scatterternary": [
           {
            "marker": {
             "colorbar": {
              "outlinewidth": 0,
              "ticks": ""
             }
            },
            "type": "scatterternary"
           }
          ],
          "surface": [
           {
            "colorbar": {
             "outlinewidth": 0,
             "ticks": ""
            },
            "colorscale": [
             [
              0,
              "#0d0887"
             ],
             [
              0.1111111111111111,
              "#46039f"
             ],
             [
              0.2222222222222222,
              "#7201a8"
             ],
             [
              0.3333333333333333,
              "#9c179e"
             ],
             [
              0.4444444444444444,
              "#bd3786"
             ],
             [
              0.5555555555555556,
              "#d8576b"
             ],
             [
              0.6666666666666666,
              "#ed7953"
             ],
             [
              0.7777777777777778,
              "#fb9f3a"
             ],
             [
              0.8888888888888888,
              "#fdca26"
             ],
             [
              1,
              "#f0f921"
             ]
            ],
            "type": "surface"
           }
          ],
          "table": [
           {
            "cells": {
             "fill": {
              "color": "#EBF0F8"
             },
             "line": {
              "color": "white"
             }
            },
            "header": {
             "fill": {
              "color": "#C8D4E3"
             },
             "line": {
              "color": "white"
             }
            },
            "type": "table"
           }
          ]
         },
         "layout": {
          "annotationdefaults": {
           "arrowcolor": "#2a3f5f",
           "arrowhead": 0,
           "arrowwidth": 1
          },
          "autotypenumbers": "strict",
          "coloraxis": {
           "colorbar": {
            "outlinewidth": 0,
            "ticks": ""
           }
          },
          "colorscale": {
           "diverging": [
            [
             0,
             "#8e0152"
            ],
            [
             0.1,
             "#c51b7d"
            ],
            [
             0.2,
             "#de77ae"
            ],
            [
             0.3,
             "#f1b6da"
            ],
            [
             0.4,
             "#fde0ef"
            ],
            [
             0.5,
             "#f7f7f7"
            ],
            [
             0.6,
             "#e6f5d0"
            ],
            [
             0.7,
             "#b8e186"
            ],
            [
             0.8,
             "#7fbc41"
            ],
            [
             0.9,
             "#4d9221"
            ],
            [
             1,
             "#276419"
            ]
           ],
           "sequential": [
            [
             0,
             "#0d0887"
            ],
            [
             0.1111111111111111,
             "#46039f"
            ],
            [
             0.2222222222222222,
             "#7201a8"
            ],
            [
             0.3333333333333333,
             "#9c179e"
            ],
            [
             0.4444444444444444,
             "#bd3786"
            ],
            [
             0.5555555555555556,
             "#d8576b"
            ],
            [
             0.6666666666666666,
             "#ed7953"
            ],
            [
             0.7777777777777778,
             "#fb9f3a"
            ],
            [
             0.8888888888888888,
             "#fdca26"
            ],
            [
             1,
             "#f0f921"
            ]
           ],
           "sequentialminus": [
            [
             0,
             "#0d0887"
            ],
            [
             0.1111111111111111,
             "#46039f"
            ],
            [
             0.2222222222222222,
             "#7201a8"
            ],
            [
             0.3333333333333333,
             "#9c179e"
            ],
            [
             0.4444444444444444,
             "#bd3786"
            ],
            [
             0.5555555555555556,
             "#d8576b"
            ],
            [
             0.6666666666666666,
             "#ed7953"
            ],
            [
             0.7777777777777778,
             "#fb9f3a"
            ],
            [
             0.8888888888888888,
             "#fdca26"
            ],
            [
             1,
             "#f0f921"
            ]
           ]
          },
          "colorway": [
           "#636efa",
           "#EF553B",
           "#00cc96",
           "#ab63fa",
           "#FFA15A",
           "#19d3f3",
           "#FF6692",
           "#B6E880",
           "#FF97FF",
           "#FECB52"
          ],
          "font": {
           "color": "#2a3f5f"
          },
          "geo": {
           "bgcolor": "white",
           "lakecolor": "white",
           "landcolor": "#E5ECF6",
           "showlakes": true,
           "showland": true,
           "subunitcolor": "white"
          },
          "hoverlabel": {
           "align": "left"
          },
          "hovermode": "closest",
          "mapbox": {
           "style": "light"
          },
          "paper_bgcolor": "white",
          "plot_bgcolor": "#E5ECF6",
          "polar": {
           "angularaxis": {
            "gridcolor": "white",
            "linecolor": "white",
            "ticks": ""
           },
           "bgcolor": "#E5ECF6",
           "radialaxis": {
            "gridcolor": "white",
            "linecolor": "white",
            "ticks": ""
           }
          },
          "scene": {
           "xaxis": {
            "backgroundcolor": "#E5ECF6",
            "gridcolor": "white",
            "gridwidth": 2,
            "linecolor": "white",
            "showbackground": true,
            "ticks": "",
            "zerolinecolor": "white"
           },
           "yaxis": {
            "backgroundcolor": "#E5ECF6",
            "gridcolor": "white",
            "gridwidth": 2,
            "linecolor": "white",
            "showbackground": true,
            "ticks": "",
            "zerolinecolor": "white"
           },
           "zaxis": {
            "backgroundcolor": "#E5ECF6",
            "gridcolor": "white",
            "gridwidth": 2,
            "linecolor": "white",
            "showbackground": true,
            "ticks": "",
            "zerolinecolor": "white"
           }
          },
          "shapedefaults": {
           "line": {
            "color": "#2a3f5f"
           }
          },
          "ternary": {
           "aaxis": {
            "gridcolor": "white",
            "linecolor": "white",
            "ticks": ""
           },
           "baxis": {
            "gridcolor": "white",
            "linecolor": "white",
            "ticks": ""
           },
           "bgcolor": "#E5ECF6",
           "caxis": {
            "gridcolor": "white",
            "linecolor": "white",
            "ticks": ""
           }
          },
          "title": {
           "x": 0.05
          },
          "xaxis": {
           "automargin": true,
           "gridcolor": "white",
           "linecolor": "white",
           "ticks": "",
           "title": {
            "standoff": 15
           },
           "zerolinecolor": "white",
           "zerolinewidth": 2
          },
          "yaxis": {
           "automargin": true,
           "gridcolor": "white",
           "linecolor": "white",
           "ticks": "",
           "title": {
            "standoff": 15
           },
           "zerolinecolor": "white",
           "zerolinewidth": 2
          }
         }
        },
        "xaxis": {
         "anchor": "y",
         "domain": [
          0,
          0.45
         ],
         "title": {
          "text": "Epoch"
         }
        },
        "xaxis2": {
         "anchor": "y2",
         "domain": [
          0.55,
          1
         ],
         "title": {
          "text": "TRIP_MILES"
         }
        },
        "yaxis": {
         "anchor": "x",
         "domain": [
          0,
          1
         ],
         "range": [
          2.9963088989257813,
          17.875823974609375
         ],
         "title": {
          "text": "Root Mean Squared Error"
         }
        },
        "yaxis2": {
         "anchor": "x2",
         "domain": [
          0,
          1
         ],
         "title": {
          "text": "FARE"
         }
        }
       }
      }
     },
     "metadata": {},
     "output_type": "display_data"
    }
   ],
   "source": [
    "#@title Code - Experiment 1\n",
    "\n",
    "# The following variables are the hyperparameters.\n",
    "learning_rate = 0.001\n",
    "epochs = 20\n",
    "batch_size = 50\n",
    "\n",
    "# Specify the feature and the label.\n",
    "features = ['TRIP_MILES']\n",
    "label = 'FARE'\n",
    "\n",
    "model_1 = run_experiment(training_df, features, label, learning_rate, epochs, batch_size)"
   ]
  },
  {
   "cell_type": "code",
   "execution_count": 16,
   "id": "5b4b3ccb",
   "metadata": {},
   "outputs": [
    {
     "name": "stdout",
     "output_type": "stream",
     "text": [
      "INFO: starting training experiment with features=['TRIP_MILES'] and label=FARE\n",
      "\n",
      "Epoch 1/20\n",
      "\u001b[1m634/634\u001b[0m \u001b[32m━━━━━━━━━━━━━━━━━━━━\u001b[0m\u001b[37m\u001b[0m \u001b[1m1s\u001b[0m 981us/step - loss: 1305.6339 - root_mean_squared_error: 36.1166\n",
      "Epoch 2/20\n",
      "\u001b[1m634/634\u001b[0m \u001b[32m━━━━━━━━━━━━━━━━━━━━\u001b[0m\u001b[37m\u001b[0m \u001b[1m1s\u001b[0m 1ms/step - loss: 849.2794 - root_mean_squared_error: 29.1066\n",
      "Epoch 3/20\n",
      "\u001b[1m634/634\u001b[0m \u001b[32m━━━━━━━━━━━━━━━━━━━━\u001b[0m\u001b[37m\u001b[0m \u001b[1m1s\u001b[0m 1ms/step - loss: 470.3495 - root_mean_squared_error: 21.6669\n",
      "Epoch 4/20\n",
      "\u001b[1m634/634\u001b[0m \u001b[32m━━━━━━━━━━━━━━━━━━━━\u001b[0m\u001b[37m\u001b[0m \u001b[1m1s\u001b[0m 2ms/step - loss: 214.4641 - root_mean_squared_error: 14.6093\n",
      "Epoch 5/20\n",
      "\u001b[1m634/634\u001b[0m \u001b[32m━━━━━━━━━━━━━━━━━━━━\u001b[0m\u001b[37m\u001b[0m \u001b[1m1s\u001b[0m 2ms/step - loss: 61.7214 - root_mean_squared_error: 7.8207\n",
      "Epoch 6/20\n",
      "\u001b[1m634/634\u001b[0m \u001b[32m━━━━━━━━━━━━━━━━━━━━\u001b[0m\u001b[37m\u001b[0m \u001b[1m1s\u001b[0m 1ms/step - loss: 15.2573 - root_mean_squared_error: 3.8912\n",
      "Epoch 7/20\n",
      "\u001b[1m634/634\u001b[0m \u001b[32m━━━━━━━━━━━━━━━━━━━━\u001b[0m\u001b[37m\u001b[0m \u001b[1m1s\u001b[0m 1ms/step - loss: 14.4492 - root_mean_squared_error: 3.7958\n",
      "Epoch 8/20\n",
      "\u001b[1m634/634\u001b[0m \u001b[32m━━━━━━━━━━━━━━━━━━━━\u001b[0m\u001b[37m\u001b[0m \u001b[1m1s\u001b[0m 1ms/step - loss: 15.8265 - root_mean_squared_error: 3.9654\n",
      "Epoch 9/20\n",
      "\u001b[1m634/634\u001b[0m \u001b[32m━━━━━━━━━━━━━━━━━━━━\u001b[0m\u001b[37m\u001b[0m \u001b[1m1s\u001b[0m 1ms/step - loss: 13.8915 - root_mean_squared_error: 3.7244\n",
      "Epoch 10/20\n",
      "\u001b[1m634/634\u001b[0m \u001b[32m━━━━━━━━━━━━━━━━━━━━\u001b[0m\u001b[37m\u001b[0m \u001b[1m1s\u001b[0m 1ms/step - loss: 16.6496 - root_mean_squared_error: 4.0641\n",
      "Epoch 11/20\n",
      "\u001b[1m634/634\u001b[0m \u001b[32m━━━━━━━━━━━━━━━━━━━━\u001b[0m\u001b[37m\u001b[0m \u001b[1m1s\u001b[0m 1ms/step - loss: 14.4413 - root_mean_squared_error: 3.7913\n",
      "Epoch 12/20\n",
      "\u001b[1m634/634\u001b[0m \u001b[32m━━━━━━━━━━━━━━━━━━━━\u001b[0m\u001b[37m\u001b[0m \u001b[1m1s\u001b[0m 1ms/step - loss: 14.0392 - root_mean_squared_error: 3.7434\n",
      "Epoch 13/20\n",
      "\u001b[1m634/634\u001b[0m \u001b[32m━━━━━━━━━━━━━━━━━━━━\u001b[0m\u001b[37m\u001b[0m \u001b[1m1s\u001b[0m 1ms/step - loss: 15.0059 - root_mean_squared_error: 3.8663\n",
      "Epoch 14/20\n",
      "\u001b[1m634/634\u001b[0m \u001b[32m━━━━━━━━━━━━━━━━━━━━\u001b[0m\u001b[37m\u001b[0m \u001b[1m1s\u001b[0m 1ms/step - loss: 12.3998 - root_mean_squared_error: 3.5141\n",
      "Epoch 15/20\n",
      "\u001b[1m634/634\u001b[0m \u001b[32m━━━━━━━━━━━━━━━━━━━━\u001b[0m\u001b[37m\u001b[0m \u001b[1m1s\u001b[0m 1ms/step - loss: 14.5100 - root_mean_squared_error: 3.8039\n",
      "Epoch 16/20\n",
      "\u001b[1m634/634\u001b[0m \u001b[32m━━━━━━━━━━━━━━━━━━━━\u001b[0m\u001b[37m\u001b[0m \u001b[1m1s\u001b[0m 1ms/step - loss: 14.3675 - root_mean_squared_error: 3.7797\n",
      "Epoch 17/20\n",
      "\u001b[1m634/634\u001b[0m \u001b[32m━━━━━━━━━━━━━━━━━━━━\u001b[0m\u001b[37m\u001b[0m \u001b[1m1s\u001b[0m 1ms/step - loss: 13.5825 - root_mean_squared_error: 3.6781\n",
      "Epoch 18/20\n",
      "\u001b[1m634/634\u001b[0m \u001b[32m━━━━━━━━━━━━━━━━━━━━\u001b[0m\u001b[37m\u001b[0m \u001b[1m1s\u001b[0m 1ms/step - loss: 13.6211 - root_mean_squared_error: 3.6821\n",
      "Epoch 19/20\n",
      "\u001b[1m634/634\u001b[0m \u001b[32m━━━━━━━━━━━━━━━━━━━━\u001b[0m\u001b[37m\u001b[0m \u001b[1m1s\u001b[0m 1ms/step - loss: 13.3165 - root_mean_squared_error: 3.6383\n",
      "Epoch 20/20\n",
      "\u001b[1m634/634\u001b[0m \u001b[32m━━━━━━━━━━━━━━━━━━━━\u001b[0m\u001b[37m\u001b[0m \u001b[1m1s\u001b[0m 1ms/step - loss: 13.8799 - root_mean_squared_error: 3.7209\n",
      "\n",
      "SUCCESS: training experiment complete\n",
      "\n",
      "--------------------------------------------------------------------------------\n",
      "|                                  MODEL INFO                                  |\n",
      "--------------------------------------------------------------------------------\n",
      "Weight for feature[TRIP_MILES]: 2.282\n",
      "Bias: 4.979\n",
      "\n",
      "FARE = 2.282 * TRIP_MILES + 4.979\n",
      "\n"
     ]
    },
    {
     "data": {
      "application/vnd.plotly.v1+json": {
       "config": {
        "plotlyServerURL": "https://plot.ly"
       },
       "data": [
        {
         "hovertemplate": "TRIP_MILES=%{x}<br>FARE=%{y}<extra></extra>",
         "legendgroup": "",
         "marker": {
          "color": "#636efa",
          "symbol": "circle"
         },
         "mode": "markers",
         "name": "",
         "orientation": "v",
         "showlegend": false,
         "type": "scatter",
         "x": {
          "bdata": "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",
          "dtype": "f8"
         },
         "xaxis": "x2",
         "y": {
          "bdata": "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",
          "dtype": "f8"
         },
         "yaxis": "y2"
        },
        {
         "hovertemplate": "TRIP_MILES=%{x}<br>FARE_PREDICTED=%{y}<extra></extra>",
         "legendgroup": "",
         "line": {
          "color": "#ff0000",
          "dash": "solid",
          "width": 3
         },
         "marker": {
          "symbol": "circle"
         },
         "mode": "lines",
         "name": "",
         "orientation": "v",
         "showlegend": false,
         "type": "scatter",
         "x": {
          "bdata": "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",
          "dtype": "f8"
         },
         "xaxis": "x2",
         "y": {
          "bdata": "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",
          "dtype": "f8"
         },
         "yaxis": "y2"
        },
        {
         "hovertemplate": "x=%{x}<br>y=%{y}<extra></extra>",
         "legendgroup": "",
         "line": {
          "color": "#ff0000",
          "dash": "solid",
          "width": 3
         },
         "marker": {
          "symbol": "circle"
         },
         "mode": "lines",
         "name": "",
         "orientation": "v",
         "showlegend": false,
         "type": "scatter",
         "x": {
          "bdata": "AAECAwQFBgcICQoLDA0ODxAREhM=",
          "dtype": "i1"
         },
         "xaxis": "x",
         "y": {
          "bdata": "AAAAoPMwQUAAAADgYis7QAAAAOCEATRAAAAAAAj5KUAAAACgqqUaQAAAAMDbVg9AAAAAIH6aDkAAAAAALUYOQAAAACBVGA5AAAAAgF4FDkAAAACAs/wNQAAAAGAe+g1AAAAAoMP4DUAAAABg8/cNQAAAAKD99w1AAAAAYD33DUAAAACAVPcNQAAAAMCG9w1AAAAAwOn2DUAAAABAG/cNQA==",
          "dtype": "f8"
         },
         "yaxis": "y"
        }
       ],
       "layout": {
        "annotations": [
         {
          "font": {
           "size": 16
          },
          "showarrow": false,
          "text": "Loss Curve",
          "x": 0.225,
          "xanchor": "center",
          "xref": "paper",
          "y": 1,
          "yanchor": "bottom",
          "yref": "paper"
         },
         {
          "font": {
           "size": 16
          },
          "showarrow": false,
          "text": "Model Plot",
          "x": 0.775,
          "xanchor": "center",
          "xref": "paper",
          "y": 1,
          "yanchor": "bottom",
          "yref": "paper"
         }
        ],
        "template": {
         "data": {
          "bar": [
           {
            "error_x": {
             "color": "#2a3f5f"
            },
            "error_y": {
             "color": "#2a3f5f"
            },
            "marker": {
             "line": {
              "color": "#E5ECF6",
              "width": 0.5
             },
             "pattern": {
              "fillmode": "overlay",
              "size": 10,
              "solidity": 0.2
             }
            },
            "type": "bar"
           }
          ],
          "barpolar": [
           {
            "marker": {
             "line": {
              "color": "#E5ECF6",
              "width": 0.5
             },
             "pattern": {
              "fillmode": "overlay",
              "size": 10,
              "solidity": 0.2
             }
            },
            "type": "barpolar"
           }
          ],
          "carpet": [
           {
            "aaxis": {
             "endlinecolor": "#2a3f5f",
             "gridcolor": "white",
             "linecolor": "white",
             "minorgridcolor": "white",
             "startlinecolor": "#2a3f5f"
            },
            "baxis": {
             "endlinecolor": "#2a3f5f",
             "gridcolor": "white",
             "linecolor": "white",
             "minorgridcolor": "white",
             "startlinecolor": "#2a3f5f"
            },
            "type": "carpet"
           }
          ],
          "choropleth": [
           {
            "colorbar": {
             "outlinewidth": 0,
             "ticks": ""
            },
            "type": "choropleth"
           }
          ],
          "contour": [
           {
            "colorbar": {
             "outlinewidth": 0,
             "ticks": ""
            },
            "colorscale": [
             [
              0,
              "#0d0887"
             ],
             [
              0.1111111111111111,
              "#46039f"
             ],
             [
              0.2222222222222222,
              "#7201a8"
             ],
             [
              0.3333333333333333,
              "#9c179e"
             ],
             [
              0.4444444444444444,
              "#bd3786"
             ],
             [
              0.5555555555555556,
              "#d8576b"
             ],
             [
              0.6666666666666666,
              "#ed7953"
             ],
             [
              0.7777777777777778,
              "#fb9f3a"
             ],
             [
              0.8888888888888888,
              "#fdca26"
             ],
             [
              1,
              "#f0f921"
             ]
            ],
            "type": "contour"
           }
          ],
          "contourcarpet": [
           {
            "colorbar": {
             "outlinewidth": 0,
             "ticks": ""
            },
            "type": "contourcarpet"
           }
          ],
          "heatmap": [
           {
            "colorbar": {
             "outlinewidth": 0,
             "ticks": ""
            },
            "colorscale": [
             [
              0,
              "#0d0887"
             ],
             [
              0.1111111111111111,
              "#46039f"
             ],
             [
              0.2222222222222222,
              "#7201a8"
             ],
             [
              0.3333333333333333,
              "#9c179e"
             ],
             [
              0.4444444444444444,
              "#bd3786"
             ],
             [
              0.5555555555555556,
              "#d8576b"
             ],
             [
              0.6666666666666666,
              "#ed7953"
             ],
             [
              0.7777777777777778,
              "#fb9f3a"
             ],
             [
              0.8888888888888888,
              "#fdca26"
             ],
             [
              1,
              "#f0f921"
             ]
            ],
            "type": "heatmap"
           }
          ],
          "histogram": [
           {
            "marker": {
             "pattern": {
              "fillmode": "overlay",
              "size": 10,
              "solidity": 0.2
             }
            },
            "type": "histogram"
           }
          ],
          "histogram2d": [
           {
            "colorbar": {
             "outlinewidth": 0,
             "ticks": ""
            },
            "colorscale": [
             [
              0,
              "#0d0887"
             ],
             [
              0.1111111111111111,
              "#46039f"
             ],
             [
              0.2222222222222222,
              "#7201a8"
             ],
             [
              0.3333333333333333,
              "#9c179e"
             ],
             [
              0.4444444444444444,
              "#bd3786"
             ],
             [
              0.5555555555555556,
              "#d8576b"
             ],
             [
              0.6666666666666666,
              "#ed7953"
             ],
             [
              0.7777777777777778,
              "#fb9f3a"
             ],
             [
              0.8888888888888888,
              "#fdca26"
             ],
             [
              1,
              "#f0f921"
             ]
            ],
            "type": "histogram2d"
           }
          ],
          "histogram2dcontour": [
           {
            "colorbar": {
             "outlinewidth": 0,
             "ticks": ""
            },
            "colorscale": [
             [
              0,
              "#0d0887"
             ],
             [
              0.1111111111111111,
              "#46039f"
             ],
             [
              0.2222222222222222,
              "#7201a8"
             ],
             [
              0.3333333333333333,
              "#9c179e"
             ],
             [
              0.4444444444444444,
              "#bd3786"
             ],
             [
              0.5555555555555556,
              "#d8576b"
             ],
             [
              0.6666666666666666,
              "#ed7953"
             ],
             [
              0.7777777777777778,
              "#fb9f3a"
             ],
             [
              0.8888888888888888,
              "#fdca26"
             ],
             [
              1,
              "#f0f921"
             ]
            ],
            "type": "histogram2dcontour"
           }
          ],
          "mesh3d": [
           {
            "colorbar": {
             "outlinewidth": 0,
             "ticks": ""
            },
            "type": "mesh3d"
           }
          ],
          "parcoords": [
           {
            "line": {
             "colorbar": {
              "outlinewidth": 0,
              "ticks": ""
             }
            },
            "type": "parcoords"
           }
          ],
          "pie": [
           {
            "automargin": true,
            "type": "pie"
           }
          ],
          "scatter": [
           {
            "fillpattern": {
             "fillmode": "overlay",
             "size": 10,
             "solidity": 0.2
            },
            "type": "scatter"
           }
          ],
          "scatter3d": [
           {
            "line": {
             "colorbar": {
              "outlinewidth": 0,
              "ticks": ""
             }
            },
            "marker": {
             "colorbar": {
              "outlinewidth": 0,
              "ticks": ""
             }
            },
            "type": "scatter3d"
           }
          ],
          "scattercarpet": [
           {
            "marker": {
             "colorbar": {
              "outlinewidth": 0,
              "ticks": ""
             }
            },
            "type": "scattercarpet"
           }
          ],
          "scattergeo": [
           {
            "marker": {
             "colorbar": {
              "outlinewidth": 0,
              "ticks": ""
             }
            },
            "type": "scattergeo"
           }
          ],
          "scattergl": [
           {
            "marker": {
             "colorbar": {
              "outlinewidth": 0,
              "ticks": ""
             }
            },
            "type": "scattergl"
           }
          ],
          "scattermap": [
           {
            "marker": {
             "colorbar": {
              "outlinewidth": 0,
              "ticks": ""
             }
            },
            "type": "scattermap"
           }
          ],
          "scattermapbox": [
           {
            "marker": {
             "colorbar": {
              "outlinewidth": 0,
              "ticks": ""
             }
            },
            "type": "scattermapbox"
           }
          ],
          "scatterpolar": [
           {
            "marker": {
             "colorbar": {
              "outlinewidth": 0,
              "ticks": ""
             }
            },
            "type": "scatterpolar"
           }
          ],
          "scatterpolargl": [
           {
            "marker": {
             "colorbar": {
              "outlinewidth": 0,
              "ticks": ""
             }
            },
            "type": "scatterpolargl"
           }
          ],
          "scatterternary": [
           {
            "marker": {
             "colorbar": {
              "outlinewidth": 0,
              "ticks": ""
             }
            },
            "type": "scatterternary"
           }
          ],
          "surface": [
           {
            "colorbar": {
             "outlinewidth": 0,
             "ticks": ""
            },
            "colorscale": [
             [
              0,
              "#0d0887"
             ],
             [
              0.1111111111111111,
              "#46039f"
             ],
             [
              0.2222222222222222,
              "#7201a8"
             ],
             [
              0.3333333333333333,
              "#9c179e"
             ],
             [
              0.4444444444444444,
              "#bd3786"
             ],
             [
              0.5555555555555556,
              "#d8576b"
             ],
             [
              0.6666666666666666,
              "#ed7953"
             ],
             [
              0.7777777777777778,
              "#fb9f3a"
             ],
             [
              0.8888888888888888,
              "#fdca26"
             ],
             [
              1,
              "#f0f921"
             ]
            ],
            "type": "surface"
           }
          ],
          "table": [
           {
            "cells": {
             "fill": {
              "color": "#EBF0F8"
             },
             "line": {
              "color": "white"
             }
            },
            "header": {
             "fill": {
              "color": "#C8D4E3"
             },
             "line": {
              "color": "white"
             }
            },
            "type": "table"
           }
          ]
         },
         "layout": {
          "annotationdefaults": {
           "arrowcolor": "#2a3f5f",
           "arrowhead": 0,
           "arrowwidth": 1
          },
          "autotypenumbers": "strict",
          "coloraxis": {
           "colorbar": {
            "outlinewidth": 0,
            "ticks": ""
           }
          },
          "colorscale": {
           "diverging": [
            [
             0,
             "#8e0152"
            ],
            [
             0.1,
             "#c51b7d"
            ],
            [
             0.2,
             "#de77ae"
            ],
            [
             0.3,
             "#f1b6da"
            ],
            [
             0.4,
             "#fde0ef"
            ],
            [
             0.5,
             "#f7f7f7"
            ],
            [
             0.6,
             "#e6f5d0"
            ],
            [
             0.7,
             "#b8e186"
            ],
            [
             0.8,
             "#7fbc41"
            ],
            [
             0.9,
             "#4d9221"
            ],
            [
             1,
             "#276419"
            ]
           ],
           "sequential": [
            [
             0,
             "#0d0887"
            ],
            [
             0.1111111111111111,
             "#46039f"
            ],
            [
             0.2222222222222222,
             "#7201a8"
            ],
            [
             0.3333333333333333,
             "#9c179e"
            ],
            [
             0.4444444444444444,
             "#bd3786"
            ],
            [
             0.5555555555555556,
             "#d8576b"
            ],
            [
             0.6666666666666666,
             "#ed7953"
            ],
            [
             0.7777777777777778,
             "#fb9f3a"
            ],
            [
             0.8888888888888888,
             "#fdca26"
            ],
            [
             1,
             "#f0f921"
            ]
           ],
           "sequentialminus": [
            [
             0,
             "#0d0887"
            ],
            [
             0.1111111111111111,
             "#46039f"
            ],
            [
             0.2222222222222222,
             "#7201a8"
            ],
            [
             0.3333333333333333,
             "#9c179e"
            ],
            [
             0.4444444444444444,
             "#bd3786"
            ],
            [
             0.5555555555555556,
             "#d8576b"
            ],
            [
             0.6666666666666666,
             "#ed7953"
            ],
            [
             0.7777777777777778,
             "#fb9f3a"
            ],
            [
             0.8888888888888888,
             "#fdca26"
            ],
            [
             1,
             "#f0f921"
            ]
           ]
          },
          "colorway": [
           "#636efa",
           "#EF553B",
           "#00cc96",
           "#ab63fa",
           "#FFA15A",
           "#19d3f3",
           "#FF6692",
           "#B6E880",
           "#FF97FF",
           "#FECB52"
          ],
          "font": {
           "color": "#2a3f5f"
          },
          "geo": {
           "bgcolor": "white",
           "lakecolor": "white",
           "landcolor": "#E5ECF6",
           "showlakes": true,
           "showland": true,
           "subunitcolor": "white"
          },
          "hoverlabel": {
           "align": "left"
          },
          "hovermode": "closest",
          "mapbox": {
           "style": "light"
          },
          "paper_bgcolor": "white",
          "plot_bgcolor": "#E5ECF6",
          "polar": {
           "angularaxis": {
            "gridcolor": "white",
            "linecolor": "white",
            "ticks": ""
           },
           "bgcolor": "#E5ECF6",
           "radialaxis": {
            "gridcolor": "white",
            "linecolor": "white",
            "ticks": ""
           }
          },
          "scene": {
           "xaxis": {
            "backgroundcolor": "#E5ECF6",
            "gridcolor": "white",
            "gridwidth": 2,
            "linecolor": "white",
            "showbackground": true,
            "ticks": "",
            "zerolinecolor": "white"
           },
           "yaxis": {
            "backgroundcolor": "#E5ECF6",
            "gridcolor": "white",
            "gridwidth": 2,
            "linecolor": "white",
            "showbackground": true,
            "ticks": "",
            "zerolinecolor": "white"
           },
           "zaxis": {
            "backgroundcolor": "#E5ECF6",
            "gridcolor": "white",
            "gridwidth": 2,
            "linecolor": "white",
            "showbackground": true,
            "ticks": "",
            "zerolinecolor": "white"
           }
          },
          "shapedefaults": {
           "line": {
            "color": "#2a3f5f"
           }
          },
          "ternary": {
           "aaxis": {
            "gridcolor": "white",
            "linecolor": "white",
            "ticks": ""
           },
           "baxis": {
            "gridcolor": "white",
            "linecolor": "white",
            "ticks": ""
           },
           "bgcolor": "#E5ECF6",
           "caxis": {
            "gridcolor": "white",
            "linecolor": "white",
            "ticks": ""
           }
          },
          "title": {
           "x": 0.05
          },
          "xaxis": {
           "automargin": true,
           "gridcolor": "white",
           "linecolor": "white",
           "ticks": "",
           "title": {
            "standoff": 15
           },
           "zerolinecolor": "white",
           "zerolinewidth": 2
          },
          "yaxis": {
           "automargin": true,
           "gridcolor": "white",
           "linecolor": "white",
           "ticks": "",
           "title": {
            "standoff": 15
           },
           "zerolinecolor": "white",
           "zerolinewidth": 2
          }
         }
        },
        "xaxis": {
         "anchor": "y",
         "domain": [
          0,
          0.45
         ],
         "title": {
          "text": "Epoch"
         }
        },
        "xaxis2": {
         "anchor": "y2",
         "domain": [
          0.55,
          1
         ],
         "title": {
          "text": "TRIP_MILES"
         }
        },
        "yaxis": {
         "anchor": "x",
         "domain": [
          0,
          1
         ],
         "range": [
          2.996450424194336,
          34.3824348449707
         ],
         "title": {
          "text": "Root Mean Squared Error"
         }
        },
        "yaxis2": {
         "anchor": "x2",
         "domain": [
          0,
          1
         ],
         "title": {
          "text": "FARE"
         }
        }
       }
      }
     },
     "metadata": {},
     "output_type": "display_data"
    }
   ],
   "source": [
    "# The following variables are the hyperparameters.\n",
    "# TODO - Adjust these hyperparameters to see how they impact a training run.\n",
    "learning_rate = 0.001\n",
    "epochs = 20\n",
    "batch_size = 50\n",
    "\n",
    "# Specify the feature and the label.\n",
    "features = ['TRIP_MILES']\n",
    "label = 'FARE'\n",
    "\n",
    "model_1 = run_experiment(training_df, features, label, learning_rate, epochs, batch_size)"
   ]
  },
  {
   "cell_type": "code",
   "execution_count": 17,
   "id": "f413720f",
   "metadata": {},
   "outputs": [
    {
     "name": "stdout",
     "output_type": "stream",
     "text": [
      "INFO: starting training experiment with features=['TRIP_MILES', 'TRIP_MINUTES'] and label=FARE\n",
      "\n",
      "Epoch 1/20\n"
     ]
    },
    {
     "name": "stderr",
     "output_type": "stream",
     "text": [
      "C:\\Users\\ramirred\\AppData\\Local\\Temp\\ipykernel_25264\\316932342.py:6: SettingWithCopyWarning:\n",
      "\n",
      "\n",
      "A value is trying to be set on a copy of a slice from a DataFrame.\n",
      "Try using .loc[row_indexer,col_indexer] = value instead\n",
      "\n",
      "See the caveats in the documentation: https://pandas.pydata.org/pandas-docs/stable/user_guide/indexing.html#returning-a-view-versus-a-copy\n",
      "\n"
     ]
    },
    {
     "name": "stdout",
     "output_type": "stream",
     "text": [
      "\u001b[1m634/634\u001b[0m \u001b[32m━━━━━━━━━━━━━━━━━━━━\u001b[0m\u001b[37m\u001b[0m \u001b[1m1s\u001b[0m 957us/step - loss: 22.6937 - root_mean_squared_error: 4.7601\n",
      "Epoch 2/20\n",
      "\u001b[1m634/634\u001b[0m \u001b[32m━━━━━━━━━━━━━━━━━━━━\u001b[0m\u001b[37m\u001b[0m \u001b[1m1s\u001b[0m 921us/step - loss: 16.1774 - root_mean_squared_error: 4.0192\n",
      "Epoch 3/20\n",
      "\u001b[1m634/634\u001b[0m \u001b[32m━━━━━━━━━━━━━━━━━━━━\u001b[0m\u001b[37m\u001b[0m \u001b[1m1s\u001b[0m 953us/step - loss: 13.5773 - root_mean_squared_error: 3.6768\n",
      "Epoch 4/20\n",
      "\u001b[1m634/634\u001b[0m \u001b[32m━━━━━━━━━━━━━━━━━━━━\u001b[0m\u001b[37m\u001b[0m \u001b[1m1s\u001b[0m 1ms/step - loss: 14.6052 - root_mean_squared_error: 3.8182\n",
      "Epoch 5/20\n",
      "\u001b[1m634/634\u001b[0m \u001b[32m━━━━━━━━━━━━━━━━━━━━\u001b[0m\u001b[37m\u001b[0m \u001b[1m1s\u001b[0m 1ms/step - loss: 12.8439 - root_mean_squared_error: 3.5737\n",
      "Epoch 6/20\n",
      "\u001b[1m634/634\u001b[0m \u001b[32m━━━━━━━━━━━━━━━━━━━━\u001b[0m\u001b[37m\u001b[0m \u001b[1m1s\u001b[0m 2ms/step - loss: 13.0978 - root_mean_squared_error: 3.6085\n",
      "Epoch 7/20\n",
      "\u001b[1m634/634\u001b[0m \u001b[32m━━━━━━━━━━━━━━━━━━━━\u001b[0m\u001b[37m\u001b[0m \u001b[1m1s\u001b[0m 2ms/step - loss: 10.9871 - root_mean_squared_error: 3.3043\n",
      "Epoch 8/20\n",
      "\u001b[1m634/634\u001b[0m \u001b[32m━━━━━━━━━━━━━━━━━━━━\u001b[0m\u001b[37m\u001b[0m \u001b[1m1s\u001b[0m 2ms/step - loss: 11.9336 - root_mean_squared_error: 3.4512\n",
      "Epoch 9/20\n",
      "\u001b[1m634/634\u001b[0m \u001b[32m━━━━━━━━━━━━━━━━━━━━\u001b[0m\u001b[37m\u001b[0m \u001b[1m1s\u001b[0m 2ms/step - loss: 12.3411 - root_mean_squared_error: 3.5024\n",
      "Epoch 10/20\n",
      "\u001b[1m634/634\u001b[0m \u001b[32m━━━━━━━━━━━━━━━━━━━━\u001b[0m\u001b[37m\u001b[0m \u001b[1m1s\u001b[0m 2ms/step - loss: 12.9829 - root_mean_squared_error: 3.5854\n",
      "Epoch 11/20\n",
      "\u001b[1m634/634\u001b[0m \u001b[32m━━━━━━━━━━━━━━━━━━━━\u001b[0m\u001b[37m\u001b[0m \u001b[1m1s\u001b[0m 2ms/step - loss: 11.9412 - root_mean_squared_error: 3.4496\n",
      "Epoch 12/20\n",
      "\u001b[1m634/634\u001b[0m \u001b[32m━━━━━━━━━━━━━━━━━━━━\u001b[0m\u001b[37m\u001b[0m \u001b[1m1s\u001b[0m 2ms/step - loss: 10.8643 - root_mean_squared_error: 3.2907\n",
      "Epoch 13/20\n",
      "\u001b[1m634/634\u001b[0m \u001b[32m━━━━━━━━━━━━━━━━━━━━\u001b[0m\u001b[37m\u001b[0m \u001b[1m1s\u001b[0m 2ms/step - loss: 10.1969 - root_mean_squared_error: 3.1623\n",
      "Epoch 14/20\n",
      "\u001b[1m634/634\u001b[0m \u001b[32m━━━━━━━━━━━━━━━━━━━━\u001b[0m\u001b[37m\u001b[0m \u001b[1m1s\u001b[0m 1ms/step - loss: 13.6178 - root_mean_squared_error: 3.6787\n",
      "Epoch 15/20\n",
      "\u001b[1m634/634\u001b[0m \u001b[32m━━━━━━━━━━━━━━━━━━━━\u001b[0m\u001b[37m\u001b[0m \u001b[1m1s\u001b[0m 2ms/step - loss: 11.3141 - root_mean_squared_error: 3.3576\n",
      "Epoch 16/20\n",
      "\u001b[1m634/634\u001b[0m \u001b[32m━━━━━━━━━━━━━━━━━━━━\u001b[0m\u001b[37m\u001b[0m \u001b[1m1s\u001b[0m 2ms/step - loss: 10.4491 - root_mean_squared_error: 3.2220\n",
      "Epoch 17/20\n",
      "\u001b[1m634/634\u001b[0m \u001b[32m━━━━━━━━━━━━━━━━━━━━\u001b[0m\u001b[37m\u001b[0m \u001b[1m1s\u001b[0m 2ms/step - loss: 12.6751 - root_mean_squared_error: 3.5575\n",
      "Epoch 18/20\n",
      "\u001b[1m634/634\u001b[0m \u001b[32m━━━━━━━━━━━━━━━━━━━━\u001b[0m\u001b[37m\u001b[0m \u001b[1m1s\u001b[0m 2ms/step - loss: 11.3751 - root_mean_squared_error: 3.3673\n",
      "Epoch 19/20\n",
      "\u001b[1m634/634\u001b[0m \u001b[32m━━━━━━━━━━━━━━━━━━━━\u001b[0m\u001b[37m\u001b[0m \u001b[1m1s\u001b[0m 2ms/step - loss: 12.1550 - root_mean_squared_error: 3.4763\n",
      "Epoch 20/20\n",
      "\u001b[1m634/634\u001b[0m \u001b[32m━━━━━━━━━━━━━━━━━━━━\u001b[0m\u001b[37m\u001b[0m \u001b[1m1s\u001b[0m 1ms/step - loss: 10.6703 - root_mean_squared_error: 3.2606\n",
      "\n",
      "SUCCESS: training experiment complete\n",
      "\n",
      "--------------------------------------------------------------------------------\n",
      "|                                  MODEL INFO                                  |\n",
      "--------------------------------------------------------------------------------\n",
      "Weight for feature[TRIP_MILES]: 2.033\n",
      "Weight for feature[TRIP_MINUTES]: 0.150\n",
      "Bias: 3.838\n",
      "\n",
      "FARE = 2.033 * TRIP_MILES + 0.150 * TRIP_MINUTES + 3.838\n",
      "\n"
     ]
    },
    {
     "data": {
      "application/vnd.plotly.v1+json": {
       "config": {
        "plotlyServerURL": "https://plot.ly"
       },
       "data": [
        {
         "hovertemplate": "TRIP_MILES=%{x}<br>TRIP_MINUTES=%{y}<br>FARE=%{z}<extra></extra>",
         "legendgroup": "",
         "marker": {
          "color": "#636efa",
          "symbol": "circle"
         },
         "mode": "markers",
         "name": "",
         "scene": "scene",
         "showlegend": false,
         "type": "scatter3d",
         "x": {
          "bdata": "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",
          "dtype": "f8"
         },
         "y": {
          "bdata": "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",
          "dtype": "f8"
         },
         "z": {
          "bdata": "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",
          "dtype": "f8"
         }
        },
        {
         "colorscale": [
          [
           0,
           "#89CFF0"
          ],
          [
           1,
           "#FFDB58"
          ]
         ],
         "scene": "scene",
         "type": "surface",
         "x": {
          "bdata": "7VG4HoXr4T8VlcbXHFQcQAAAAAAAgDJA",
          "dtype": "f8"
         },
         "y": {
          "bdata": "REREREREBkAREREREaFEQDMzMzMzU1VA",
          "dtype": "f8"
         },
         "z": [
          [
           5.394965686450402,
           24.443472949887315,
           54.281911586225036
          ],
          [
           5.394965686450402,
           24.443472949887315,
           54.281911586225036
          ],
          [
           5.394965686450402,
           24.443472949887315,
           54.281911586225036
          ]
         ]
        },
        {
         "hovertemplate": "x=%{x}<br>y=%{y}<extra></extra>",
         "legendgroup": "",
         "line": {
          "color": "#ff0000",
          "dash": "solid",
          "width": 3
         },
         "marker": {
          "symbol": "circle"
         },
         "mode": "lines",
         "name": "",
         "orientation": "v",
         "showlegend": false,
         "type": "scatter",
         "x": {
          "bdata": "AAECAwQFBgcICQoLDA0ODxAREhM=",
          "dtype": "i1"
         },
         "xaxis": "x",
         "y": {
          "bdata": "AAAAgFfxEUAAAAAgwcIPQAAAAEB9Lg5AAAAA4M1KDUAAAABgEbEMQAAAAGD2SQxAAAAAAF0LDEAAAADA9e4LQAAAAMDY3wtAAAAAQK7aC0AAAACA29QLQAAAAABG0QtAAAAAABXUC0AAAACg99ILQAAAAGAb1AtAAAAAADjTC0AAAAAA+dMLQAAAAEC40wtAAAAA4HrSC0AAAADgbdMLQA==",
          "dtype": "f8"
         },
         "yaxis": "y"
        }
       ],
       "layout": {
        "annotations": [
         {
          "font": {
           "size": 16
          },
          "showarrow": false,
          "text": "Loss Curve",
          "x": 0.225,
          "xanchor": "center",
          "xref": "paper",
          "y": 1,
          "yanchor": "bottom",
          "yref": "paper"
         },
         {
          "font": {
           "size": 16
          },
          "showarrow": false,
          "text": "Model Plot",
          "x": 0.775,
          "xanchor": "center",
          "xref": "paper",
          "y": 1,
          "yanchor": "bottom",
          "yref": "paper"
         }
        ],
        "scene": {
         "domain": {
          "x": [
           0.55,
           1
          ],
          "y": [
           0,
           1
          ]
         },
         "xaxis": {
          "title": {
           "text": "TRIP_MILES"
          }
         },
         "yaxis": {
          "title": {
           "text": "TRIP_MINUTES"
          }
         },
         "zaxis": {
          "title": {
           "text": "FARE"
          }
         }
        },
        "template": {
         "data": {
          "bar": [
           {
            "error_x": {
             "color": "#2a3f5f"
            },
            "error_y": {
             "color": "#2a3f5f"
            },
            "marker": {
             "line": {
              "color": "#E5ECF6",
              "width": 0.5
             },
             "pattern": {
              "fillmode": "overlay",
              "size": 10,
              "solidity": 0.2
             }
            },
            "type": "bar"
           }
          ],
          "barpolar": [
           {
            "marker": {
             "line": {
              "color": "#E5ECF6",
              "width": 0.5
             },
             "pattern": {
              "fillmode": "overlay",
              "size": 10,
              "solidity": 0.2
             }
            },
            "type": "barpolar"
           }
          ],
          "carpet": [
           {
            "aaxis": {
             "endlinecolor": "#2a3f5f",
             "gridcolor": "white",
             "linecolor": "white",
             "minorgridcolor": "white",
             "startlinecolor": "#2a3f5f"
            },
            "baxis": {
             "endlinecolor": "#2a3f5f",
             "gridcolor": "white",
             "linecolor": "white",
             "minorgridcolor": "white",
             "startlinecolor": "#2a3f5f"
            },
            "type": "carpet"
           }
          ],
          "choropleth": [
           {
            "colorbar": {
             "outlinewidth": 0,
             "ticks": ""
            },
            "type": "choropleth"
           }
          ],
          "contour": [
           {
            "colorbar": {
             "outlinewidth": 0,
             "ticks": ""
            },
            "colorscale": [
             [
              0,
              "#0d0887"
             ],
             [
              0.1111111111111111,
              "#46039f"
             ],
             [
              0.2222222222222222,
              "#7201a8"
             ],
             [
              0.3333333333333333,
              "#9c179e"
             ],
             [
              0.4444444444444444,
              "#bd3786"
             ],
             [
              0.5555555555555556,
              "#d8576b"
             ],
             [
              0.6666666666666666,
              "#ed7953"
             ],
             [
              0.7777777777777778,
              "#fb9f3a"
             ],
             [
              0.8888888888888888,
              "#fdca26"
             ],
             [
              1,
              "#f0f921"
             ]
            ],
            "type": "contour"
           }
          ],
          "contourcarpet": [
           {
            "colorbar": {
             "outlinewidth": 0,
             "ticks": ""
            },
            "type": "contourcarpet"
           }
          ],
          "heatmap": [
           {
            "colorbar": {
             "outlinewidth": 0,
             "ticks": ""
            },
            "colorscale": [
             [
              0,
              "#0d0887"
             ],
             [
              0.1111111111111111,
              "#46039f"
             ],
             [
              0.2222222222222222,
              "#7201a8"
             ],
             [
              0.3333333333333333,
              "#9c179e"
             ],
             [
              0.4444444444444444,
              "#bd3786"
             ],
             [
              0.5555555555555556,
              "#d8576b"
             ],
             [
              0.6666666666666666,
              "#ed7953"
             ],
             [
              0.7777777777777778,
              "#fb9f3a"
             ],
             [
              0.8888888888888888,
              "#fdca26"
             ],
             [
              1,
              "#f0f921"
             ]
            ],
            "type": "heatmap"
           }
          ],
          "histogram": [
           {
            "marker": {
             "pattern": {
              "fillmode": "overlay",
              "size": 10,
              "solidity": 0.2
             }
            },
            "type": "histogram"
           }
          ],
          "histogram2d": [
           {
            "colorbar": {
             "outlinewidth": 0,
             "ticks": ""
            },
            "colorscale": [
             [
              0,
              "#0d0887"
             ],
             [
              0.1111111111111111,
              "#46039f"
             ],
             [
              0.2222222222222222,
              "#7201a8"
             ],
             [
              0.3333333333333333,
              "#9c179e"
             ],
             [
              0.4444444444444444,
              "#bd3786"
             ],
             [
              0.5555555555555556,
              "#d8576b"
             ],
             [
              0.6666666666666666,
              "#ed7953"
             ],
             [
              0.7777777777777778,
              "#fb9f3a"
             ],
             [
              0.8888888888888888,
              "#fdca26"
             ],
             [
              1,
              "#f0f921"
             ]
            ],
            "type": "histogram2d"
           }
          ],
          "histogram2dcontour": [
           {
            "colorbar": {
             "outlinewidth": 0,
             "ticks": ""
            },
            "colorscale": [
             [
              0,
              "#0d0887"
             ],
             [
              0.1111111111111111,
              "#46039f"
             ],
             [
              0.2222222222222222,
              "#7201a8"
             ],
             [
              0.3333333333333333,
              "#9c179e"
             ],
             [
              0.4444444444444444,
              "#bd3786"
             ],
             [
              0.5555555555555556,
              "#d8576b"
             ],
             [
              0.6666666666666666,
              "#ed7953"
             ],
             [
              0.7777777777777778,
              "#fb9f3a"
             ],
             [
              0.8888888888888888,
              "#fdca26"
             ],
             [
              1,
              "#f0f921"
             ]
            ],
            "type": "histogram2dcontour"
           }
          ],
          "mesh3d": [
           {
            "colorbar": {
             "outlinewidth": 0,
             "ticks": ""
            },
            "type": "mesh3d"
           }
          ],
          "parcoords": [
           {
            "line": {
             "colorbar": {
              "outlinewidth": 0,
              "ticks": ""
             }
            },
            "type": "parcoords"
           }
          ],
          "pie": [
           {
            "automargin": true,
            "type": "pie"
           }
          ],
          "scatter": [
           {
            "fillpattern": {
             "fillmode": "overlay",
             "size": 10,
             "solidity": 0.2
            },
            "type": "scatter"
           }
          ],
          "scatter3d": [
           {
            "line": {
             "colorbar": {
              "outlinewidth": 0,
              "ticks": ""
             }
            },
            "marker": {
             "colorbar": {
              "outlinewidth": 0,
              "ticks": ""
             }
            },
            "type": "scatter3d"
           }
          ],
          "scattercarpet": [
           {
            "marker": {
             "colorbar": {
              "outlinewidth": 0,
              "ticks": ""
             }
            },
            "type": "scattercarpet"
           }
          ],
          "scattergeo": [
           {
            "marker": {
             "colorbar": {
              "outlinewidth": 0,
              "ticks": ""
             }
            },
            "type": "scattergeo"
           }
          ],
          "scattergl": [
           {
            "marker": {
             "colorbar": {
              "outlinewidth": 0,
              "ticks": ""
             }
            },
            "type": "scattergl"
           }
          ],
          "scattermap": [
           {
            "marker": {
             "colorbar": {
              "outlinewidth": 0,
              "ticks": ""
             }
            },
            "type": "scattermap"
           }
          ],
          "scattermapbox": [
           {
            "marker": {
             "colorbar": {
              "outlinewidth": 0,
              "ticks": ""
             }
            },
            "type": "scattermapbox"
           }
          ],
          "scatterpolar": [
           {
            "marker": {
             "colorbar": {
              "outlinewidth": 0,
              "ticks": ""
             }
            },
            "type": "scatterpolar"
           }
          ],
          "scatterpolargl": [
           {
            "marker": {
             "colorbar": {
              "outlinewidth": 0,
              "ticks": ""
             }
            },
            "type": "scatterpolargl"
           }
          ],
          "scatterternary": [
           {
            "marker": {
             "colorbar": {
              "outlinewidth": 0,
              "ticks": ""
             }
            },
            "type": "scatterternary"
           }
          ],
          "surface": [
           {
            "colorbar": {
             "outlinewidth": 0,
             "ticks": ""
            },
            "colorscale": [
             [
              0,
              "#0d0887"
             ],
             [
              0.1111111111111111,
              "#46039f"
             ],
             [
              0.2222222222222222,
              "#7201a8"
             ],
             [
              0.3333333333333333,
              "#9c179e"
             ],
             [
              0.4444444444444444,
              "#bd3786"
             ],
             [
              0.5555555555555556,
              "#d8576b"
             ],
             [
              0.6666666666666666,
              "#ed7953"
             ],
             [
              0.7777777777777778,
              "#fb9f3a"
             ],
             [
              0.8888888888888888,
              "#fdca26"
             ],
             [
              1,
              "#f0f921"
             ]
            ],
            "type": "surface"
           }
          ],
          "table": [
           {
            "cells": {
             "fill": {
              "color": "#EBF0F8"
             },
             "line": {
              "color": "white"
             }
            },
            "header": {
             "fill": {
              "color": "#C8D4E3"
             },
             "line": {
              "color": "white"
             }
            },
            "type": "table"
           }
          ]
         },
         "layout": {
          "annotationdefaults": {
           "arrowcolor": "#2a3f5f",
           "arrowhead": 0,
           "arrowwidth": 1
          },
          "autotypenumbers": "strict",
          "coloraxis": {
           "colorbar": {
            "outlinewidth": 0,
            "ticks": ""
           }
          },
          "colorscale": {
           "diverging": [
            [
             0,
             "#8e0152"
            ],
            [
             0.1,
             "#c51b7d"
            ],
            [
             0.2,
             "#de77ae"
            ],
            [
             0.3,
             "#f1b6da"
            ],
            [
             0.4,
             "#fde0ef"
            ],
            [
             0.5,
             "#f7f7f7"
            ],
            [
             0.6,
             "#e6f5d0"
            ],
            [
             0.7,
             "#b8e186"
            ],
            [
             0.8,
             "#7fbc41"
            ],
            [
             0.9,
             "#4d9221"
            ],
            [
             1,
             "#276419"
            ]
           ],
           "sequential": [
            [
             0,
             "#0d0887"
            ],
            [
             0.1111111111111111,
             "#46039f"
            ],
            [
             0.2222222222222222,
             "#7201a8"
            ],
            [
             0.3333333333333333,
             "#9c179e"
            ],
            [
             0.4444444444444444,
             "#bd3786"
            ],
            [
             0.5555555555555556,
             "#d8576b"
            ],
            [
             0.6666666666666666,
             "#ed7953"
            ],
            [
             0.7777777777777778,
             "#fb9f3a"
            ],
            [
             0.8888888888888888,
             "#fdca26"
            ],
            [
             1,
             "#f0f921"
            ]
           ],
           "sequentialminus": [
            [
             0,
             "#0d0887"
            ],
            [
             0.1111111111111111,
             "#46039f"
            ],
            [
             0.2222222222222222,
             "#7201a8"
            ],
            [
             0.3333333333333333,
             "#9c179e"
            ],
            [
             0.4444444444444444,
             "#bd3786"
            ],
            [
             0.5555555555555556,
             "#d8576b"
            ],
            [
             0.6666666666666666,
             "#ed7953"
            ],
            [
             0.7777777777777778,
             "#fb9f3a"
            ],
            [
             0.8888888888888888,
             "#fdca26"
            ],
            [
             1,
             "#f0f921"
            ]
           ]
          },
          "colorway": [
           "#636efa",
           "#EF553B",
           "#00cc96",
           "#ab63fa",
           "#FFA15A",
           "#19d3f3",
           "#FF6692",
           "#B6E880",
           "#FF97FF",
           "#FECB52"
          ],
          "font": {
           "color": "#2a3f5f"
          },
          "geo": {
           "bgcolor": "white",
           "lakecolor": "white",
           "landcolor": "#E5ECF6",
           "showlakes": true,
           "showland": true,
           "subunitcolor": "white"
          },
          "hoverlabel": {
           "align": "left"
          },
          "hovermode": "closest",
          "mapbox": {
           "style": "light"
          },
          "paper_bgcolor": "white",
          "plot_bgcolor": "#E5ECF6",
          "polar": {
           "angularaxis": {
            "gridcolor": "white",
            "linecolor": "white",
            "ticks": ""
           },
           "bgcolor": "#E5ECF6",
           "radialaxis": {
            "gridcolor": "white",
            "linecolor": "white",
            "ticks": ""
           }
          },
          "scene": {
           "xaxis": {
            "backgroundcolor": "#E5ECF6",
            "gridcolor": "white",
            "gridwidth": 2,
            "linecolor": "white",
            "showbackground": true,
            "ticks": "",
            "zerolinecolor": "white"
           },
           "yaxis": {
            "backgroundcolor": "#E5ECF6",
            "gridcolor": "white",
            "gridwidth": 2,
            "linecolor": "white",
            "showbackground": true,
            "ticks": "",
            "zerolinecolor": "white"
           },
           "zaxis": {
            "backgroundcolor": "#E5ECF6",
            "gridcolor": "white",
            "gridwidth": 2,
            "linecolor": "white",
            "showbackground": true,
            "ticks": "",
            "zerolinecolor": "white"
           }
          },
          "shapedefaults": {
           "line": {
            "color": "#2a3f5f"
           }
          },
          "ternary": {
           "aaxis": {
            "gridcolor": "white",
            "linecolor": "white",
            "ticks": ""
           },
           "baxis": {
            "gridcolor": "white",
            "linecolor": "white",
            "ticks": ""
           },
           "bgcolor": "#E5ECF6",
           "caxis": {
            "gridcolor": "white",
            "linecolor": "white",
            "ticks": ""
           }
          },
          "title": {
           "x": 0.05
          },
          "xaxis": {
           "automargin": true,
           "gridcolor": "white",
           "linecolor": "white",
           "ticks": "",
           "title": {
            "standoff": 15
           },
           "zerolinecolor": "white",
           "zerolinewidth": 2
          },
          "yaxis": {
           "automargin": true,
           "gridcolor": "white",
           "linecolor": "white",
           "ticks": "",
           "title": {
            "standoff": 15
           },
           "zerolinecolor": "white",
           "zerolinewidth": 2
          }
         }
        },
        "xaxis": {
         "anchor": "y",
         "domain": [
          0,
          0.45
         ],
         "title": {
          "text": "Epoch"
         }
        },
        "yaxis": {
         "anchor": "x",
         "domain": [
          0,
          1
         ],
         "range": [
          2.7817474365234376,
          4.485685348510742
         ],
         "title": {
          "text": "Root Mean Squared Error"
         }
        }
       }
      }
     },
     "metadata": {},
     "output_type": "display_data"
    }
   ],
   "source": [
    "# The following variables are the hyperparameters.\n",
    "learning_rate = 0.001\n",
    "epochs = 20\n",
    "batch_size = 50\n",
    "\n",
    "training_df.loc[:, 'TRIP_MINUTES'] = training_df['TRIP_SECONDS']/60\n",
    "\n",
    "features = ['TRIP_MILES', 'TRIP_MINUTES']\n",
    "label = 'FARE'\n",
    "\n",
    "model_2 = run_experiment(training_df, features, label, learning_rate, epochs, batch_size)"
   ]
  },
  {
   "cell_type": "code",
   "execution_count": 18,
   "id": "18a74ef8",
   "metadata": {},
   "outputs": [],
   "source": [
    "#@title Code - Define functions to make predictions\n",
    "def format_currency(x):\n",
    "  return \"${:.2f}\".format(x)\n",
    "\n",
    "def build_batch(df, batch_size):\n",
    "  batch = df.sample(n=batch_size).copy()\n",
    "  batch.set_index(np.arange(batch_size), inplace=True)\n",
    "  return batch\n",
    "\n",
    "def predict_fare(model, df, features, label, batch_size=50):\n",
    "  batch = build_batch(df, batch_size)\n",
    "  predicted_values = model.predict_on_batch(x=batch.loc[:, features].values)\n",
    "\n",
    "  data = {\"PREDICTED_FARE\": [], \"OBSERVED_FARE\": [], \"L1_LOSS\": [],\n",
    "          features[0]: [], features[1]: []}\n",
    "  for i in range(batch_size):\n",
    "    predicted = predicted_values[i][0]\n",
    "    observed = batch.at[i, label]\n",
    "    data[\"PREDICTED_FARE\"].append(format_currency(predicted))\n",
    "    data[\"OBSERVED_FARE\"].append(format_currency(observed))\n",
    "    data[\"L1_LOSS\"].append(format_currency(abs(observed - predicted)))\n",
    "    data[features[0]].append(batch.at[i, features[0]])\n",
    "    data[features[1]].append(\"{:.2f}\".format(batch.at[i, features[1]]))\n",
    "\n",
    "  output_df = pd.DataFrame(data)\n",
    "  return output_df\n",
    "\n",
    "def show_predictions(output):\n",
    "  header = \"-\" * 80\n",
    "  banner = header + \"\\n\" + \"|\" + \"PREDICTIONS\".center(78) + \"|\" + \"\\n\" + header\n",
    "  print(banner)\n",
    "  print(output)\n",
    "  return"
   ]
  },
  {
   "cell_type": "code",
   "execution_count": 19,
   "id": "5bec824b",
   "metadata": {},
   "outputs": [
    {
     "name": "stdout",
     "output_type": "stream",
     "text": [
      "--------------------------------------------------------------------------------\n",
      "|                                 PREDICTIONS                                  |\n",
      "--------------------------------------------------------------------------------\n",
      "   PREDICTED_FARE OBSERVED_FARE L1_LOSS  TRIP_MILES TRIP_MINUTES\n",
      "0          $23.42        $22.75   $0.67        7.94        22.90\n",
      "1          $12.30        $11.75   $0.55        3.20        13.00\n",
      "2          $44.73        $44.25   $0.48       17.60        34.00\n",
      "3          $47.22        $46.00   $1.22       18.10        43.80\n",
      "4           $8.24         $7.50   $0.74        1.72         6.02\n",
      "5          $49.08        $46.25   $2.83       18.70        48.00\n",
      "6          $21.44        $20.29   $1.15        7.60        14.28\n",
      "7          $26.87        $26.75   $0.12        9.87        19.70\n",
      "8          $43.42        $42.50   $0.92       17.13        31.62\n",
      "9          $12.83        $12.25   $0.58        3.36        14.37\n",
      "10         $25.25        $24.50   $0.75        8.67        25.20\n",
      "11          $8.79        $10.00   $1.21        1.15        17.40\n",
      "12         $27.66        $28.50   $0.84        9.05        36.05\n",
      "13         $48.36        $45.50   $2.86       18.03        52.27\n",
      "14         $30.07        $29.50   $0.57       11.13        24.00\n",
      "15         $49.18        $46.00   $3.18       18.33        53.67\n",
      "16         $16.39        $15.75   $0.64        5.24        12.62\n",
      "17         $11.03        $10.00   $1.03        2.50        14.00\n",
      "18         $36.39        $35.50   $0.89       13.56        33.13\n",
      "19         $22.09        $22.50   $0.41        7.20        24.00\n",
      "20         $42.24        $41.50   $0.74       16.30        35.00\n",
      "21         $21.54        $19.87   $1.67        6.29        32.68\n",
      "22         $33.83        $34.50   $0.67       13.16        21.55\n",
      "23         $23.71        $23.25   $0.46        8.51        17.10\n",
      "24          $6.88         $6.50   $0.38        0.99         6.83\n",
      "25          $9.00         $8.25   $0.75        1.80        10.00\n",
      "26         $25.44        $25.25   $0.19        9.00        22.00\n",
      "27          $9.51         $8.75   $0.76        2.20         8.00\n",
      "28          $6.52         $6.25   $0.27        0.80         7.00\n",
      "29          $8.60         $8.00   $0.60        1.60        10.00\n",
      "30          $6.37         $5.75   $0.62        0.80         6.00\n",
      "31          $8.24         $9.00   $0.76        1.49         9.12\n",
      "32          $9.37         $9.00   $0.37        1.98        10.02\n",
      "33         $12.28        $11.25   $1.03        3.17        13.25\n",
      "34         $16.72        $18.00   $1.28        4.18        29.15\n",
      "35         $36.93        $37.25   $0.32       14.50        24.00\n",
      "36          $6.42         $6.00   $0.42        0.81         6.23\n",
      "37         $29.56        $29.75   $0.19       11.09        21.13\n",
      "38         $33.62        $33.75   $0.13       13.20        19.57\n",
      "39         $25.14        $24.50   $0.64        9.00        20.00\n",
      "40          $8.51         $8.25   $0.26        1.50        10.77\n",
      "41         $41.54        $40.25   $1.29       15.66        39.02\n",
      "42         $44.66        $43.75   $0.91       17.32        37.32\n",
      "43          $6.46         $6.00   $0.46        0.90         5.25\n",
      "44          $6.27         $5.75   $0.52        0.79         5.47\n",
      "45         $13.08        $12.25   $0.83        3.51        14.00\n",
      "46         $47.18        $45.25   $1.93       17.71        48.75\n",
      "47         $11.32        $11.00   $0.32        3.02         8.92\n",
      "48         $48.22        $45.25   $2.97       17.99        51.88\n",
      "49         $44.71        $44.00   $0.71       17.65        33.17\n"
     ]
    }
   ],
   "source": [
    "#@title Code - Make predictions\n",
    "\n",
    "output = predict_fare(model_2, training_df, features, label)\n",
    "show_predictions(output)"
   ]
  }
 ],
 "metadata": {
  "kernelspec": {
   "display_name": "Python 3",
   "language": "python",
   "name": "python3"
  },
  "language_info": {
   "codemirror_mode": {
    "name": "ipython",
    "version": 3
   },
   "file_extension": ".py",
   "mimetype": "text/x-python",
   "name": "python",
   "nbconvert_exporter": "python",
   "pygments_lexer": "ipython3",
   "version": "3.11.9"
  }
 },
 "nbformat": 4,
 "nbformat_minor": 5
}
